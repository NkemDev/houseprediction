{
 "cells": [
  {
   "cell_type": "code",
   "execution_count": 1,
   "id": "fffbd6cf",
   "metadata": {
    "_cell_guid": "b1076dfc-b9ad-4769-8c92-a6c4dae69d19",
    "_uuid": "8f2839f25d086af736a60e9eeb907d3b93b6e0e5",
    "execution": {
     "iopub.execute_input": "2022-09-29T23:08:19.392521Z",
     "iopub.status.busy": "2022-09-29T23:08:19.392032Z",
     "iopub.status.idle": "2022-09-29T23:08:19.406586Z",
     "shell.execute_reply": "2022-09-29T23:08:19.405185Z"
    },
    "papermill": {
     "duration": 0.03954,
     "end_time": "2022-09-29T23:08:19.409600",
     "exception": false,
     "start_time": "2022-09-29T23:08:19.370060",
     "status": "completed"
    },
    "tags": []
   },
   "outputs": [
    {
     "name": "stdout",
     "output_type": "stream",
     "text": [
      "/kaggle/input/house-prices-advanced-regression-techniques/sample_submission.csv\n",
      "/kaggle/input/house-prices-advanced-regression-techniques/data_description.txt\n",
      "/kaggle/input/house-prices-advanced-regression-techniques/train.csv\n",
      "/kaggle/input/house-prices-advanced-regression-techniques/test.csv\n"
     ]
    }
   ],
   "source": [
    "# This Python 3 environment comes with many helpful analytics libraries installed\n",
    "# It is defined by the kaggle/python Docker image: https://github.com/kaggle/docker-python\n",
    "# For example, here's several helpful packages to load\n",
    "\n",
    "import numpy as np # linear algebra\n",
    "import pandas as pd # data processing, CSV file I/O (e.g. pd.read_csv)\n",
    "\n",
    "# Input data files are available in the read-only \"../input/\" directory\n",
    "# For example, running this (by clicking run or pressing Shift+Enter) will list all files under the input directory\n",
    "\n",
    "import os\n",
    "for dirname, _, filenames in os.walk('/kaggle/input'):\n",
    "    for filename in filenames:\n",
    "        print(os.path.join(dirname, filename))\n",
    "\n",
    "# You can write up to 20GB to the current directory (/kaggle/working/) that gets preserved as output when you create a version using \"Save & Run All\" \n",
    "# You can also write temporary files to /kaggle/temp/, but they won't be saved outside of the current session"
   ]
  },
  {
   "cell_type": "code",
   "execution_count": 2,
   "id": "f41bf8ec",
   "metadata": {
    "execution": {
     "iopub.execute_input": "2022-09-29T23:08:19.445186Z",
     "iopub.status.busy": "2022-09-29T23:08:19.444751Z",
     "iopub.status.idle": "2022-09-29T23:08:20.744284Z",
     "shell.execute_reply": "2022-09-29T23:08:20.742959Z"
    },
    "papermill": {
     "duration": 1.320737,
     "end_time": "2022-09-29T23:08:20.747159",
     "exception": false,
     "start_time": "2022-09-29T23:08:19.426422",
     "status": "completed"
    },
    "tags": []
   },
   "outputs": [],
   "source": [
    "import matplotlib.pyplot as plt\n",
    "import seaborn as sns\n",
    "%matplotlib inline"
   ]
  },
  {
   "cell_type": "code",
   "execution_count": 3,
   "id": "b0db9724",
   "metadata": {
    "execution": {
     "iopub.execute_input": "2022-09-29T23:08:20.782180Z",
     "iopub.status.busy": "2022-09-29T23:08:20.781684Z",
     "iopub.status.idle": "2022-09-29T23:08:20.871694Z",
     "shell.execute_reply": "2022-09-29T23:08:20.870647Z"
    },
    "papermill": {
     "duration": 0.110618,
     "end_time": "2022-09-29T23:08:20.874592",
     "exception": false,
     "start_time": "2022-09-29T23:08:20.763974",
     "status": "completed"
    },
    "tags": []
   },
   "outputs": [],
   "source": [
    "df1 =pd.read_csv('/kaggle/input/house-prices-advanced-regression-techniques/train.csv')\n",
    "df2= pd.read_csv('/kaggle/input/house-prices-advanced-regression-techniques/test.csv')\n",
    "submission =pd.read_csv('/kaggle/input/house-prices-advanced-regression-techniques/sample_submission.csv')"
   ]
  },
  {
   "cell_type": "markdown",
   "id": "cbe02eda",
   "metadata": {
    "papermill": {
     "duration": 0.016361,
     "end_time": "2022-09-29T23:08:20.907308",
     "exception": false,
     "start_time": "2022-09-29T23:08:20.890947",
     "status": "completed"
    },
    "tags": []
   },
   "source": [
    "## Copy the dataframe into another variable"
   ]
  },
  {
   "cell_type": "code",
   "execution_count": 4,
   "id": "91ba2e8f",
   "metadata": {
    "execution": {
     "iopub.execute_input": "2022-09-29T23:08:20.941641Z",
     "iopub.status.busy": "2022-09-29T23:08:20.941198Z",
     "iopub.status.idle": "2022-09-29T23:08:20.947469Z",
     "shell.execute_reply": "2022-09-29T23:08:20.946357Z"
    },
    "papermill": {
     "duration": 0.026223,
     "end_time": "2022-09-29T23:08:20.949748",
     "exception": false,
     "start_time": "2022-09-29T23:08:20.923525",
     "status": "completed"
    },
    "tags": []
   },
   "outputs": [],
   "source": [
    "train_df = df1.copy()\n",
    "test_df =df2.copy()"
   ]
  },
  {
   "cell_type": "markdown",
   "id": "a5316420",
   "metadata": {
    "papermill": {
     "duration": 0.015604,
     "end_time": "2022-09-29T23:08:20.981451",
     "exception": false,
     "start_time": "2022-09-29T23:08:20.965847",
     "status": "completed"
    },
    "tags": []
   },
   "source": [
    "### Preview the test and train"
   ]
  },
  {
   "cell_type": "code",
   "execution_count": 5,
   "id": "820c4951",
   "metadata": {
    "execution": {
     "iopub.execute_input": "2022-09-29T23:08:21.015803Z",
     "iopub.status.busy": "2022-09-29T23:08:21.014748Z",
     "iopub.status.idle": "2022-09-29T23:08:21.052966Z",
     "shell.execute_reply": "2022-09-29T23:08:21.051928Z"
    },
    "papermill": {
     "duration": 0.058089,
     "end_time": "2022-09-29T23:08:21.055437",
     "exception": false,
     "start_time": "2022-09-29T23:08:20.997348",
     "status": "completed"
    },
    "tags": []
   },
   "outputs": [
    {
     "data": {
      "text/html": [
       "<div>\n",
       "<style scoped>\n",
       "    .dataframe tbody tr th:only-of-type {\n",
       "        vertical-align: middle;\n",
       "    }\n",
       "\n",
       "    .dataframe tbody tr th {\n",
       "        vertical-align: top;\n",
       "    }\n",
       "\n",
       "    .dataframe thead th {\n",
       "        text-align: right;\n",
       "    }\n",
       "</style>\n",
       "<table border=\"1\" class=\"dataframe\">\n",
       "  <thead>\n",
       "    <tr style=\"text-align: right;\">\n",
       "      <th></th>\n",
       "      <th>Id</th>\n",
       "      <th>MSSubClass</th>\n",
       "      <th>MSZoning</th>\n",
       "      <th>LotFrontage</th>\n",
       "      <th>LotArea</th>\n",
       "      <th>Street</th>\n",
       "      <th>Alley</th>\n",
       "      <th>LotShape</th>\n",
       "      <th>LandContour</th>\n",
       "      <th>Utilities</th>\n",
       "      <th>...</th>\n",
       "      <th>PoolArea</th>\n",
       "      <th>PoolQC</th>\n",
       "      <th>Fence</th>\n",
       "      <th>MiscFeature</th>\n",
       "      <th>MiscVal</th>\n",
       "      <th>MoSold</th>\n",
       "      <th>YrSold</th>\n",
       "      <th>SaleType</th>\n",
       "      <th>SaleCondition</th>\n",
       "      <th>SalePrice</th>\n",
       "    </tr>\n",
       "  </thead>\n",
       "  <tbody>\n",
       "    <tr>\n",
       "      <th>0</th>\n",
       "      <td>1</td>\n",
       "      <td>60</td>\n",
       "      <td>RL</td>\n",
       "      <td>65.0</td>\n",
       "      <td>8450</td>\n",
       "      <td>Pave</td>\n",
       "      <td>NaN</td>\n",
       "      <td>Reg</td>\n",
       "      <td>Lvl</td>\n",
       "      <td>AllPub</td>\n",
       "      <td>...</td>\n",
       "      <td>0</td>\n",
       "      <td>NaN</td>\n",
       "      <td>NaN</td>\n",
       "      <td>NaN</td>\n",
       "      <td>0</td>\n",
       "      <td>2</td>\n",
       "      <td>2008</td>\n",
       "      <td>WD</td>\n",
       "      <td>Normal</td>\n",
       "      <td>208500</td>\n",
       "    </tr>\n",
       "    <tr>\n",
       "      <th>1</th>\n",
       "      <td>2</td>\n",
       "      <td>20</td>\n",
       "      <td>RL</td>\n",
       "      <td>80.0</td>\n",
       "      <td>9600</td>\n",
       "      <td>Pave</td>\n",
       "      <td>NaN</td>\n",
       "      <td>Reg</td>\n",
       "      <td>Lvl</td>\n",
       "      <td>AllPub</td>\n",
       "      <td>...</td>\n",
       "      <td>0</td>\n",
       "      <td>NaN</td>\n",
       "      <td>NaN</td>\n",
       "      <td>NaN</td>\n",
       "      <td>0</td>\n",
       "      <td>5</td>\n",
       "      <td>2007</td>\n",
       "      <td>WD</td>\n",
       "      <td>Normal</td>\n",
       "      <td>181500</td>\n",
       "    </tr>\n",
       "    <tr>\n",
       "      <th>2</th>\n",
       "      <td>3</td>\n",
       "      <td>60</td>\n",
       "      <td>RL</td>\n",
       "      <td>68.0</td>\n",
       "      <td>11250</td>\n",
       "      <td>Pave</td>\n",
       "      <td>NaN</td>\n",
       "      <td>IR1</td>\n",
       "      <td>Lvl</td>\n",
       "      <td>AllPub</td>\n",
       "      <td>...</td>\n",
       "      <td>0</td>\n",
       "      <td>NaN</td>\n",
       "      <td>NaN</td>\n",
       "      <td>NaN</td>\n",
       "      <td>0</td>\n",
       "      <td>9</td>\n",
       "      <td>2008</td>\n",
       "      <td>WD</td>\n",
       "      <td>Normal</td>\n",
       "      <td>223500</td>\n",
       "    </tr>\n",
       "    <tr>\n",
       "      <th>3</th>\n",
       "      <td>4</td>\n",
       "      <td>70</td>\n",
       "      <td>RL</td>\n",
       "      <td>60.0</td>\n",
       "      <td>9550</td>\n",
       "      <td>Pave</td>\n",
       "      <td>NaN</td>\n",
       "      <td>IR1</td>\n",
       "      <td>Lvl</td>\n",
       "      <td>AllPub</td>\n",
       "      <td>...</td>\n",
       "      <td>0</td>\n",
       "      <td>NaN</td>\n",
       "      <td>NaN</td>\n",
       "      <td>NaN</td>\n",
       "      <td>0</td>\n",
       "      <td>2</td>\n",
       "      <td>2006</td>\n",
       "      <td>WD</td>\n",
       "      <td>Abnorml</td>\n",
       "      <td>140000</td>\n",
       "    </tr>\n",
       "    <tr>\n",
       "      <th>4</th>\n",
       "      <td>5</td>\n",
       "      <td>60</td>\n",
       "      <td>RL</td>\n",
       "      <td>84.0</td>\n",
       "      <td>14260</td>\n",
       "      <td>Pave</td>\n",
       "      <td>NaN</td>\n",
       "      <td>IR1</td>\n",
       "      <td>Lvl</td>\n",
       "      <td>AllPub</td>\n",
       "      <td>...</td>\n",
       "      <td>0</td>\n",
       "      <td>NaN</td>\n",
       "      <td>NaN</td>\n",
       "      <td>NaN</td>\n",
       "      <td>0</td>\n",
       "      <td>12</td>\n",
       "      <td>2008</td>\n",
       "      <td>WD</td>\n",
       "      <td>Normal</td>\n",
       "      <td>250000</td>\n",
       "    </tr>\n",
       "  </tbody>\n",
       "</table>\n",
       "<p>5 rows × 81 columns</p>\n",
       "</div>"
      ],
      "text/plain": [
       "   Id  MSSubClass MSZoning  LotFrontage  LotArea Street Alley LotShape  \\\n",
       "0   1          60       RL         65.0     8450   Pave   NaN      Reg   \n",
       "1   2          20       RL         80.0     9600   Pave   NaN      Reg   \n",
       "2   3          60       RL         68.0    11250   Pave   NaN      IR1   \n",
       "3   4          70       RL         60.0     9550   Pave   NaN      IR1   \n",
       "4   5          60       RL         84.0    14260   Pave   NaN      IR1   \n",
       "\n",
       "  LandContour Utilities  ... PoolArea PoolQC Fence MiscFeature MiscVal MoSold  \\\n",
       "0         Lvl    AllPub  ...        0    NaN   NaN         NaN       0      2   \n",
       "1         Lvl    AllPub  ...        0    NaN   NaN         NaN       0      5   \n",
       "2         Lvl    AllPub  ...        0    NaN   NaN         NaN       0      9   \n",
       "3         Lvl    AllPub  ...        0    NaN   NaN         NaN       0      2   \n",
       "4         Lvl    AllPub  ...        0    NaN   NaN         NaN       0     12   \n",
       "\n",
       "  YrSold  SaleType  SaleCondition  SalePrice  \n",
       "0   2008        WD         Normal     208500  \n",
       "1   2007        WD         Normal     181500  \n",
       "2   2008        WD         Normal     223500  \n",
       "3   2006        WD        Abnorml     140000  \n",
       "4   2008        WD         Normal     250000  \n",
       "\n",
       "[5 rows x 81 columns]"
      ]
     },
     "execution_count": 5,
     "metadata": {},
     "output_type": "execute_result"
    }
   ],
   "source": [
    "train_df.head()"
   ]
  },
  {
   "cell_type": "code",
   "execution_count": 6,
   "id": "018839ec",
   "metadata": {
    "execution": {
     "iopub.execute_input": "2022-09-29T23:08:21.090998Z",
     "iopub.status.busy": "2022-09-29T23:08:21.090316Z",
     "iopub.status.idle": "2022-09-29T23:08:21.115131Z",
     "shell.execute_reply": "2022-09-29T23:08:21.114065Z"
    },
    "papermill": {
     "duration": 0.045485,
     "end_time": "2022-09-29T23:08:21.117779",
     "exception": false,
     "start_time": "2022-09-29T23:08:21.072294",
     "status": "completed"
    },
    "tags": []
   },
   "outputs": [
    {
     "data": {
      "text/html": [
       "<div>\n",
       "<style scoped>\n",
       "    .dataframe tbody tr th:only-of-type {\n",
       "        vertical-align: middle;\n",
       "    }\n",
       "\n",
       "    .dataframe tbody tr th {\n",
       "        vertical-align: top;\n",
       "    }\n",
       "\n",
       "    .dataframe thead th {\n",
       "        text-align: right;\n",
       "    }\n",
       "</style>\n",
       "<table border=\"1\" class=\"dataframe\">\n",
       "  <thead>\n",
       "    <tr style=\"text-align: right;\">\n",
       "      <th></th>\n",
       "      <th>Id</th>\n",
       "      <th>MSSubClass</th>\n",
       "      <th>MSZoning</th>\n",
       "      <th>LotFrontage</th>\n",
       "      <th>LotArea</th>\n",
       "      <th>Street</th>\n",
       "      <th>Alley</th>\n",
       "      <th>LotShape</th>\n",
       "      <th>LandContour</th>\n",
       "      <th>Utilities</th>\n",
       "      <th>...</th>\n",
       "      <th>ScreenPorch</th>\n",
       "      <th>PoolArea</th>\n",
       "      <th>PoolQC</th>\n",
       "      <th>Fence</th>\n",
       "      <th>MiscFeature</th>\n",
       "      <th>MiscVal</th>\n",
       "      <th>MoSold</th>\n",
       "      <th>YrSold</th>\n",
       "      <th>SaleType</th>\n",
       "      <th>SaleCondition</th>\n",
       "    </tr>\n",
       "  </thead>\n",
       "  <tbody>\n",
       "    <tr>\n",
       "      <th>0</th>\n",
       "      <td>1461</td>\n",
       "      <td>20</td>\n",
       "      <td>RH</td>\n",
       "      <td>80.0</td>\n",
       "      <td>11622</td>\n",
       "      <td>Pave</td>\n",
       "      <td>NaN</td>\n",
       "      <td>Reg</td>\n",
       "      <td>Lvl</td>\n",
       "      <td>AllPub</td>\n",
       "      <td>...</td>\n",
       "      <td>120</td>\n",
       "      <td>0</td>\n",
       "      <td>NaN</td>\n",
       "      <td>MnPrv</td>\n",
       "      <td>NaN</td>\n",
       "      <td>0</td>\n",
       "      <td>6</td>\n",
       "      <td>2010</td>\n",
       "      <td>WD</td>\n",
       "      <td>Normal</td>\n",
       "    </tr>\n",
       "    <tr>\n",
       "      <th>1</th>\n",
       "      <td>1462</td>\n",
       "      <td>20</td>\n",
       "      <td>RL</td>\n",
       "      <td>81.0</td>\n",
       "      <td>14267</td>\n",
       "      <td>Pave</td>\n",
       "      <td>NaN</td>\n",
       "      <td>IR1</td>\n",
       "      <td>Lvl</td>\n",
       "      <td>AllPub</td>\n",
       "      <td>...</td>\n",
       "      <td>0</td>\n",
       "      <td>0</td>\n",
       "      <td>NaN</td>\n",
       "      <td>NaN</td>\n",
       "      <td>Gar2</td>\n",
       "      <td>12500</td>\n",
       "      <td>6</td>\n",
       "      <td>2010</td>\n",
       "      <td>WD</td>\n",
       "      <td>Normal</td>\n",
       "    </tr>\n",
       "    <tr>\n",
       "      <th>2</th>\n",
       "      <td>1463</td>\n",
       "      <td>60</td>\n",
       "      <td>RL</td>\n",
       "      <td>74.0</td>\n",
       "      <td>13830</td>\n",
       "      <td>Pave</td>\n",
       "      <td>NaN</td>\n",
       "      <td>IR1</td>\n",
       "      <td>Lvl</td>\n",
       "      <td>AllPub</td>\n",
       "      <td>...</td>\n",
       "      <td>0</td>\n",
       "      <td>0</td>\n",
       "      <td>NaN</td>\n",
       "      <td>MnPrv</td>\n",
       "      <td>NaN</td>\n",
       "      <td>0</td>\n",
       "      <td>3</td>\n",
       "      <td>2010</td>\n",
       "      <td>WD</td>\n",
       "      <td>Normal</td>\n",
       "    </tr>\n",
       "    <tr>\n",
       "      <th>3</th>\n",
       "      <td>1464</td>\n",
       "      <td>60</td>\n",
       "      <td>RL</td>\n",
       "      <td>78.0</td>\n",
       "      <td>9978</td>\n",
       "      <td>Pave</td>\n",
       "      <td>NaN</td>\n",
       "      <td>IR1</td>\n",
       "      <td>Lvl</td>\n",
       "      <td>AllPub</td>\n",
       "      <td>...</td>\n",
       "      <td>0</td>\n",
       "      <td>0</td>\n",
       "      <td>NaN</td>\n",
       "      <td>NaN</td>\n",
       "      <td>NaN</td>\n",
       "      <td>0</td>\n",
       "      <td>6</td>\n",
       "      <td>2010</td>\n",
       "      <td>WD</td>\n",
       "      <td>Normal</td>\n",
       "    </tr>\n",
       "    <tr>\n",
       "      <th>4</th>\n",
       "      <td>1465</td>\n",
       "      <td>120</td>\n",
       "      <td>RL</td>\n",
       "      <td>43.0</td>\n",
       "      <td>5005</td>\n",
       "      <td>Pave</td>\n",
       "      <td>NaN</td>\n",
       "      <td>IR1</td>\n",
       "      <td>HLS</td>\n",
       "      <td>AllPub</td>\n",
       "      <td>...</td>\n",
       "      <td>144</td>\n",
       "      <td>0</td>\n",
       "      <td>NaN</td>\n",
       "      <td>NaN</td>\n",
       "      <td>NaN</td>\n",
       "      <td>0</td>\n",
       "      <td>1</td>\n",
       "      <td>2010</td>\n",
       "      <td>WD</td>\n",
       "      <td>Normal</td>\n",
       "    </tr>\n",
       "  </tbody>\n",
       "</table>\n",
       "<p>5 rows × 80 columns</p>\n",
       "</div>"
      ],
      "text/plain": [
       "     Id  MSSubClass MSZoning  LotFrontage  LotArea Street Alley LotShape  \\\n",
       "0  1461          20       RH         80.0    11622   Pave   NaN      Reg   \n",
       "1  1462          20       RL         81.0    14267   Pave   NaN      IR1   \n",
       "2  1463          60       RL         74.0    13830   Pave   NaN      IR1   \n",
       "3  1464          60       RL         78.0     9978   Pave   NaN      IR1   \n",
       "4  1465         120       RL         43.0     5005   Pave   NaN      IR1   \n",
       "\n",
       "  LandContour Utilities  ... ScreenPorch PoolArea PoolQC  Fence MiscFeature  \\\n",
       "0         Lvl    AllPub  ...         120        0    NaN  MnPrv         NaN   \n",
       "1         Lvl    AllPub  ...           0        0    NaN    NaN        Gar2   \n",
       "2         Lvl    AllPub  ...           0        0    NaN  MnPrv         NaN   \n",
       "3         Lvl    AllPub  ...           0        0    NaN    NaN         NaN   \n",
       "4         HLS    AllPub  ...         144        0    NaN    NaN         NaN   \n",
       "\n",
       "  MiscVal MoSold  YrSold  SaleType  SaleCondition  \n",
       "0       0      6    2010        WD         Normal  \n",
       "1   12500      6    2010        WD         Normal  \n",
       "2       0      3    2010        WD         Normal  \n",
       "3       0      6    2010        WD         Normal  \n",
       "4       0      1    2010        WD         Normal  \n",
       "\n",
       "[5 rows x 80 columns]"
      ]
     },
     "execution_count": 6,
     "metadata": {},
     "output_type": "execute_result"
    }
   ],
   "source": [
    "test_df.head()"
   ]
  },
  {
   "cell_type": "code",
   "execution_count": 7,
   "id": "f670ed68",
   "metadata": {
    "execution": {
     "iopub.execute_input": "2022-09-29T23:08:21.158770Z",
     "iopub.status.busy": "2022-09-29T23:08:21.158362Z",
     "iopub.status.idle": "2022-09-29T23:08:21.170464Z",
     "shell.execute_reply": "2022-09-29T23:08:21.169191Z"
    },
    "papermill": {
     "duration": 0.038629,
     "end_time": "2022-09-29T23:08:21.173865",
     "exception": false,
     "start_time": "2022-09-29T23:08:21.135236",
     "status": "completed"
    },
    "tags": []
   },
   "outputs": [
    {
     "data": {
      "text/html": [
       "<div>\n",
       "<style scoped>\n",
       "    .dataframe tbody tr th:only-of-type {\n",
       "        vertical-align: middle;\n",
       "    }\n",
       "\n",
       "    .dataframe tbody tr th {\n",
       "        vertical-align: top;\n",
       "    }\n",
       "\n",
       "    .dataframe thead th {\n",
       "        text-align: right;\n",
       "    }\n",
       "</style>\n",
       "<table border=\"1\" class=\"dataframe\">\n",
       "  <thead>\n",
       "    <tr style=\"text-align: right;\">\n",
       "      <th></th>\n",
       "      <th>Id</th>\n",
       "      <th>SalePrice</th>\n",
       "    </tr>\n",
       "  </thead>\n",
       "  <tbody>\n",
       "    <tr>\n",
       "      <th>0</th>\n",
       "      <td>1461</td>\n",
       "      <td>169277.052498</td>\n",
       "    </tr>\n",
       "    <tr>\n",
       "      <th>1</th>\n",
       "      <td>1462</td>\n",
       "      <td>187758.393989</td>\n",
       "    </tr>\n",
       "    <tr>\n",
       "      <th>2</th>\n",
       "      <td>1463</td>\n",
       "      <td>183583.683570</td>\n",
       "    </tr>\n",
       "    <tr>\n",
       "      <th>3</th>\n",
       "      <td>1464</td>\n",
       "      <td>179317.477511</td>\n",
       "    </tr>\n",
       "    <tr>\n",
       "      <th>4</th>\n",
       "      <td>1465</td>\n",
       "      <td>150730.079977</td>\n",
       "    </tr>\n",
       "  </tbody>\n",
       "</table>\n",
       "</div>"
      ],
      "text/plain": [
       "     Id      SalePrice\n",
       "0  1461  169277.052498\n",
       "1  1462  187758.393989\n",
       "2  1463  183583.683570\n",
       "3  1464  179317.477511\n",
       "4  1465  150730.079977"
      ]
     },
     "execution_count": 7,
     "metadata": {},
     "output_type": "execute_result"
    }
   ],
   "source": [
    "submission.head()"
   ]
  },
  {
   "cell_type": "markdown",
   "id": "7bad2b0c",
   "metadata": {
    "papermill": {
     "duration": 0.019053,
     "end_time": "2022-09-29T23:08:21.217420",
     "exception": false,
     "start_time": "2022-09-29T23:08:21.198367",
     "status": "completed"
    },
    "tags": []
   },
   "source": [
    "### Data Wrangling of the train dataframe"
   ]
  },
  {
   "cell_type": "code",
   "execution_count": 8,
   "id": "9f8e0a23",
   "metadata": {
    "execution": {
     "iopub.execute_input": "2022-09-29T23:08:21.265423Z",
     "iopub.status.busy": "2022-09-29T23:08:21.264619Z",
     "iopub.status.idle": "2022-09-29T23:08:21.271507Z",
     "shell.execute_reply": "2022-09-29T23:08:21.270542Z"
    },
    "papermill": {
     "duration": 0.031136,
     "end_time": "2022-09-29T23:08:21.274046",
     "exception": false,
     "start_time": "2022-09-29T23:08:21.242910",
     "status": "completed"
    },
    "tags": []
   },
   "outputs": [
    {
     "data": {
      "text/plain": [
       "(1460, 81)"
      ]
     },
     "execution_count": 8,
     "metadata": {},
     "output_type": "execute_result"
    }
   ],
   "source": [
    "train_df.shape"
   ]
  },
  {
   "cell_type": "code",
   "execution_count": 9,
   "id": "7ef89f2b",
   "metadata": {
    "execution": {
     "iopub.execute_input": "2022-09-29T23:08:21.312190Z",
     "iopub.status.busy": "2022-09-29T23:08:21.311356Z",
     "iopub.status.idle": "2022-09-29T23:08:21.347235Z",
     "shell.execute_reply": "2022-09-29T23:08:21.344844Z"
    },
    "papermill": {
     "duration": 0.058761,
     "end_time": "2022-09-29T23:08:21.350699",
     "exception": false,
     "start_time": "2022-09-29T23:08:21.291938",
     "status": "completed"
    },
    "tags": []
   },
   "outputs": [
    {
     "name": "stdout",
     "output_type": "stream",
     "text": [
      "<class 'pandas.core.frame.DataFrame'>\n",
      "RangeIndex: 1460 entries, 0 to 1459\n",
      "Data columns (total 81 columns):\n",
      " #   Column         Non-Null Count  Dtype  \n",
      "---  ------         --------------  -----  \n",
      " 0   Id             1460 non-null   int64  \n",
      " 1   MSSubClass     1460 non-null   int64  \n",
      " 2   MSZoning       1460 non-null   object \n",
      " 3   LotFrontage    1201 non-null   float64\n",
      " 4   LotArea        1460 non-null   int64  \n",
      " 5   Street         1460 non-null   object \n",
      " 6   Alley          91 non-null     object \n",
      " 7   LotShape       1460 non-null   object \n",
      " 8   LandContour    1460 non-null   object \n",
      " 9   Utilities      1460 non-null   object \n",
      " 10  LotConfig      1460 non-null   object \n",
      " 11  LandSlope      1460 non-null   object \n",
      " 12  Neighborhood   1460 non-null   object \n",
      " 13  Condition1     1460 non-null   object \n",
      " 14  Condition2     1460 non-null   object \n",
      " 15  BldgType       1460 non-null   object \n",
      " 16  HouseStyle     1460 non-null   object \n",
      " 17  OverallQual    1460 non-null   int64  \n",
      " 18  OverallCond    1460 non-null   int64  \n",
      " 19  YearBuilt      1460 non-null   int64  \n",
      " 20  YearRemodAdd   1460 non-null   int64  \n",
      " 21  RoofStyle      1460 non-null   object \n",
      " 22  RoofMatl       1460 non-null   object \n",
      " 23  Exterior1st    1460 non-null   object \n",
      " 24  Exterior2nd    1460 non-null   object \n",
      " 25  MasVnrType     1452 non-null   object \n",
      " 26  MasVnrArea     1452 non-null   float64\n",
      " 27  ExterQual      1460 non-null   object \n",
      " 28  ExterCond      1460 non-null   object \n",
      " 29  Foundation     1460 non-null   object \n",
      " 30  BsmtQual       1423 non-null   object \n",
      " 31  BsmtCond       1423 non-null   object \n",
      " 32  BsmtExposure   1422 non-null   object \n",
      " 33  BsmtFinType1   1423 non-null   object \n",
      " 34  BsmtFinSF1     1460 non-null   int64  \n",
      " 35  BsmtFinType2   1422 non-null   object \n",
      " 36  BsmtFinSF2     1460 non-null   int64  \n",
      " 37  BsmtUnfSF      1460 non-null   int64  \n",
      " 38  TotalBsmtSF    1460 non-null   int64  \n",
      " 39  Heating        1460 non-null   object \n",
      " 40  HeatingQC      1460 non-null   object \n",
      " 41  CentralAir     1460 non-null   object \n",
      " 42  Electrical     1459 non-null   object \n",
      " 43  1stFlrSF       1460 non-null   int64  \n",
      " 44  2ndFlrSF       1460 non-null   int64  \n",
      " 45  LowQualFinSF   1460 non-null   int64  \n",
      " 46  GrLivArea      1460 non-null   int64  \n",
      " 47  BsmtFullBath   1460 non-null   int64  \n",
      " 48  BsmtHalfBath   1460 non-null   int64  \n",
      " 49  FullBath       1460 non-null   int64  \n",
      " 50  HalfBath       1460 non-null   int64  \n",
      " 51  BedroomAbvGr   1460 non-null   int64  \n",
      " 52  KitchenAbvGr   1460 non-null   int64  \n",
      " 53  KitchenQual    1460 non-null   object \n",
      " 54  TotRmsAbvGrd   1460 non-null   int64  \n",
      " 55  Functional     1460 non-null   object \n",
      " 56  Fireplaces     1460 non-null   int64  \n",
      " 57  FireplaceQu    770 non-null    object \n",
      " 58  GarageType     1379 non-null   object \n",
      " 59  GarageYrBlt    1379 non-null   float64\n",
      " 60  GarageFinish   1379 non-null   object \n",
      " 61  GarageCars     1460 non-null   int64  \n",
      " 62  GarageArea     1460 non-null   int64  \n",
      " 63  GarageQual     1379 non-null   object \n",
      " 64  GarageCond     1379 non-null   object \n",
      " 65  PavedDrive     1460 non-null   object \n",
      " 66  WoodDeckSF     1460 non-null   int64  \n",
      " 67  OpenPorchSF    1460 non-null   int64  \n",
      " 68  EnclosedPorch  1460 non-null   int64  \n",
      " 69  3SsnPorch      1460 non-null   int64  \n",
      " 70  ScreenPorch    1460 non-null   int64  \n",
      " 71  PoolArea       1460 non-null   int64  \n",
      " 72  PoolQC         7 non-null      object \n",
      " 73  Fence          281 non-null    object \n",
      " 74  MiscFeature    54 non-null     object \n",
      " 75  MiscVal        1460 non-null   int64  \n",
      " 76  MoSold         1460 non-null   int64  \n",
      " 77  YrSold         1460 non-null   int64  \n",
      " 78  SaleType       1460 non-null   object \n",
      " 79  SaleCondition  1460 non-null   object \n",
      " 80  SalePrice      1460 non-null   int64  \n",
      "dtypes: float64(3), int64(35), object(43)\n",
      "memory usage: 924.0+ KB\n"
     ]
    }
   ],
   "source": [
    "train_df.info()"
   ]
  },
  {
   "cell_type": "code",
   "execution_count": 10,
   "id": "3438370b",
   "metadata": {
    "execution": {
     "iopub.execute_input": "2022-09-29T23:08:21.390698Z",
     "iopub.status.busy": "2022-09-29T23:08:21.390267Z",
     "iopub.status.idle": "2022-09-29T23:08:21.413795Z",
     "shell.execute_reply": "2022-09-29T23:08:21.412149Z"
    },
    "papermill": {
     "duration": 0.047242,
     "end_time": "2022-09-29T23:08:21.417163",
     "exception": false,
     "start_time": "2022-09-29T23:08:21.369921",
     "status": "completed"
    },
    "tags": []
   },
   "outputs": [
    {
     "name": "stdout",
     "output_type": "stream",
     "text": [
      "<class 'pandas.core.frame.DataFrame'>\n",
      "RangeIndex: 1459 entries, 0 to 1458\n",
      "Data columns (total 80 columns):\n",
      " #   Column         Non-Null Count  Dtype  \n",
      "---  ------         --------------  -----  \n",
      " 0   Id             1459 non-null   int64  \n",
      " 1   MSSubClass     1459 non-null   int64  \n",
      " 2   MSZoning       1455 non-null   object \n",
      " 3   LotFrontage    1232 non-null   float64\n",
      " 4   LotArea        1459 non-null   int64  \n",
      " 5   Street         1459 non-null   object \n",
      " 6   Alley          107 non-null    object \n",
      " 7   LotShape       1459 non-null   object \n",
      " 8   LandContour    1459 non-null   object \n",
      " 9   Utilities      1457 non-null   object \n",
      " 10  LotConfig      1459 non-null   object \n",
      " 11  LandSlope      1459 non-null   object \n",
      " 12  Neighborhood   1459 non-null   object \n",
      " 13  Condition1     1459 non-null   object \n",
      " 14  Condition2     1459 non-null   object \n",
      " 15  BldgType       1459 non-null   object \n",
      " 16  HouseStyle     1459 non-null   object \n",
      " 17  OverallQual    1459 non-null   int64  \n",
      " 18  OverallCond    1459 non-null   int64  \n",
      " 19  YearBuilt      1459 non-null   int64  \n",
      " 20  YearRemodAdd   1459 non-null   int64  \n",
      " 21  RoofStyle      1459 non-null   object \n",
      " 22  RoofMatl       1459 non-null   object \n",
      " 23  Exterior1st    1458 non-null   object \n",
      " 24  Exterior2nd    1458 non-null   object \n",
      " 25  MasVnrType     1443 non-null   object \n",
      " 26  MasVnrArea     1444 non-null   float64\n",
      " 27  ExterQual      1459 non-null   object \n",
      " 28  ExterCond      1459 non-null   object \n",
      " 29  Foundation     1459 non-null   object \n",
      " 30  BsmtQual       1415 non-null   object \n",
      " 31  BsmtCond       1414 non-null   object \n",
      " 32  BsmtExposure   1415 non-null   object \n",
      " 33  BsmtFinType1   1417 non-null   object \n",
      " 34  BsmtFinSF1     1458 non-null   float64\n",
      " 35  BsmtFinType2   1417 non-null   object \n",
      " 36  BsmtFinSF2     1458 non-null   float64\n",
      " 37  BsmtUnfSF      1458 non-null   float64\n",
      " 38  TotalBsmtSF    1458 non-null   float64\n",
      " 39  Heating        1459 non-null   object \n",
      " 40  HeatingQC      1459 non-null   object \n",
      " 41  CentralAir     1459 non-null   object \n",
      " 42  Electrical     1459 non-null   object \n",
      " 43  1stFlrSF       1459 non-null   int64  \n",
      " 44  2ndFlrSF       1459 non-null   int64  \n",
      " 45  LowQualFinSF   1459 non-null   int64  \n",
      " 46  GrLivArea      1459 non-null   int64  \n",
      " 47  BsmtFullBath   1457 non-null   float64\n",
      " 48  BsmtHalfBath   1457 non-null   float64\n",
      " 49  FullBath       1459 non-null   int64  \n",
      " 50  HalfBath       1459 non-null   int64  \n",
      " 51  BedroomAbvGr   1459 non-null   int64  \n",
      " 52  KitchenAbvGr   1459 non-null   int64  \n",
      " 53  KitchenQual    1458 non-null   object \n",
      " 54  TotRmsAbvGrd   1459 non-null   int64  \n",
      " 55  Functional     1457 non-null   object \n",
      " 56  Fireplaces     1459 non-null   int64  \n",
      " 57  FireplaceQu    729 non-null    object \n",
      " 58  GarageType     1383 non-null   object \n",
      " 59  GarageYrBlt    1381 non-null   float64\n",
      " 60  GarageFinish   1381 non-null   object \n",
      " 61  GarageCars     1458 non-null   float64\n",
      " 62  GarageArea     1458 non-null   float64\n",
      " 63  GarageQual     1381 non-null   object \n",
      " 64  GarageCond     1381 non-null   object \n",
      " 65  PavedDrive     1459 non-null   object \n",
      " 66  WoodDeckSF     1459 non-null   int64  \n",
      " 67  OpenPorchSF    1459 non-null   int64  \n",
      " 68  EnclosedPorch  1459 non-null   int64  \n",
      " 69  3SsnPorch      1459 non-null   int64  \n",
      " 70  ScreenPorch    1459 non-null   int64  \n",
      " 71  PoolArea       1459 non-null   int64  \n",
      " 72  PoolQC         3 non-null      object \n",
      " 73  Fence          290 non-null    object \n",
      " 74  MiscFeature    51 non-null     object \n",
      " 75  MiscVal        1459 non-null   int64  \n",
      " 76  MoSold         1459 non-null   int64  \n",
      " 77  YrSold         1459 non-null   int64  \n",
      " 78  SaleType       1458 non-null   object \n",
      " 79  SaleCondition  1459 non-null   object \n",
      "dtypes: float64(11), int64(26), object(43)\n",
      "memory usage: 912.0+ KB\n"
     ]
    }
   ],
   "source": [
    "test_df.info()"
   ]
  },
  {
   "cell_type": "code",
   "execution_count": 11,
   "id": "22d3876a",
   "metadata": {
    "execution": {
     "iopub.execute_input": "2022-09-29T23:08:21.454805Z",
     "iopub.status.busy": "2022-09-29T23:08:21.454396Z",
     "iopub.status.idle": "2022-09-29T23:08:21.470061Z",
     "shell.execute_reply": "2022-09-29T23:08:21.468716Z"
    },
    "papermill": {
     "duration": 0.037541,
     "end_time": "2022-09-29T23:08:21.472802",
     "exception": false,
     "start_time": "2022-09-29T23:08:21.435261",
     "status": "completed"
    },
    "tags": []
   },
   "outputs": [
    {
     "data": {
      "text/plain": [
       "Id                  0\n",
       "TotalBsmtSF         0\n",
       "Heating             0\n",
       "SaleCondition       0\n",
       "CentralAir          0\n",
       "                 ... \n",
       "FireplaceQu       690\n",
       "Fence            1179\n",
       "Alley            1369\n",
       "MiscFeature      1406\n",
       "PoolQC           1453\n",
       "Length: 81, dtype: int64"
      ]
     },
     "execution_count": 11,
     "metadata": {},
     "output_type": "execute_result"
    }
   ],
   "source": [
    "#check for null values\n",
    "train_df.isnull().sum().sort_values()"
   ]
  },
  {
   "cell_type": "code",
   "execution_count": 12,
   "id": "5d0f8322",
   "metadata": {
    "execution": {
     "iopub.execute_input": "2022-09-29T23:08:21.510980Z",
     "iopub.status.busy": "2022-09-29T23:08:21.510557Z",
     "iopub.status.idle": "2022-09-29T23:08:21.629454Z",
     "shell.execute_reply": "2022-09-29T23:08:21.628232Z"
    },
    "papermill": {
     "duration": 0.14108,
     "end_time": "2022-09-29T23:08:21.632142",
     "exception": false,
     "start_time": "2022-09-29T23:08:21.491062",
     "status": "completed"
    },
    "tags": []
   },
   "outputs": [
    {
     "data": {
      "text/html": [
       "<div>\n",
       "<style scoped>\n",
       "    .dataframe tbody tr th:only-of-type {\n",
       "        vertical-align: middle;\n",
       "    }\n",
       "\n",
       "    .dataframe tbody tr th {\n",
       "        vertical-align: top;\n",
       "    }\n",
       "\n",
       "    .dataframe thead th {\n",
       "        text-align: right;\n",
       "    }\n",
       "</style>\n",
       "<table border=\"1\" class=\"dataframe\">\n",
       "  <thead>\n",
       "    <tr style=\"text-align: right;\">\n",
       "      <th></th>\n",
       "      <th>Id</th>\n",
       "      <th>MSSubClass</th>\n",
       "      <th>LotFrontage</th>\n",
       "      <th>LotArea</th>\n",
       "      <th>OverallQual</th>\n",
       "      <th>OverallCond</th>\n",
       "      <th>YearBuilt</th>\n",
       "      <th>YearRemodAdd</th>\n",
       "      <th>MasVnrArea</th>\n",
       "      <th>BsmtFinSF1</th>\n",
       "      <th>...</th>\n",
       "      <th>WoodDeckSF</th>\n",
       "      <th>OpenPorchSF</th>\n",
       "      <th>EnclosedPorch</th>\n",
       "      <th>3SsnPorch</th>\n",
       "      <th>ScreenPorch</th>\n",
       "      <th>PoolArea</th>\n",
       "      <th>MiscVal</th>\n",
       "      <th>MoSold</th>\n",
       "      <th>YrSold</th>\n",
       "      <th>SalePrice</th>\n",
       "    </tr>\n",
       "  </thead>\n",
       "  <tbody>\n",
       "    <tr>\n",
       "      <th>count</th>\n",
       "      <td>1460.000000</td>\n",
       "      <td>1460.000000</td>\n",
       "      <td>1201.000000</td>\n",
       "      <td>1460.000000</td>\n",
       "      <td>1460.000000</td>\n",
       "      <td>1460.000000</td>\n",
       "      <td>1460.000000</td>\n",
       "      <td>1460.000000</td>\n",
       "      <td>1452.000000</td>\n",
       "      <td>1460.000000</td>\n",
       "      <td>...</td>\n",
       "      <td>1460.000000</td>\n",
       "      <td>1460.000000</td>\n",
       "      <td>1460.000000</td>\n",
       "      <td>1460.000000</td>\n",
       "      <td>1460.000000</td>\n",
       "      <td>1460.000000</td>\n",
       "      <td>1460.000000</td>\n",
       "      <td>1460.000000</td>\n",
       "      <td>1460.000000</td>\n",
       "      <td>1460.000000</td>\n",
       "    </tr>\n",
       "    <tr>\n",
       "      <th>mean</th>\n",
       "      <td>730.500000</td>\n",
       "      <td>56.897260</td>\n",
       "      <td>70.049958</td>\n",
       "      <td>10516.828082</td>\n",
       "      <td>6.099315</td>\n",
       "      <td>5.575342</td>\n",
       "      <td>1971.267808</td>\n",
       "      <td>1984.865753</td>\n",
       "      <td>103.685262</td>\n",
       "      <td>443.639726</td>\n",
       "      <td>...</td>\n",
       "      <td>94.244521</td>\n",
       "      <td>46.660274</td>\n",
       "      <td>21.954110</td>\n",
       "      <td>3.409589</td>\n",
       "      <td>15.060959</td>\n",
       "      <td>2.758904</td>\n",
       "      <td>43.489041</td>\n",
       "      <td>6.321918</td>\n",
       "      <td>2007.815753</td>\n",
       "      <td>180921.195890</td>\n",
       "    </tr>\n",
       "    <tr>\n",
       "      <th>std</th>\n",
       "      <td>421.610009</td>\n",
       "      <td>42.300571</td>\n",
       "      <td>24.284752</td>\n",
       "      <td>9981.264932</td>\n",
       "      <td>1.382997</td>\n",
       "      <td>1.112799</td>\n",
       "      <td>30.202904</td>\n",
       "      <td>20.645407</td>\n",
       "      <td>181.066207</td>\n",
       "      <td>456.098091</td>\n",
       "      <td>...</td>\n",
       "      <td>125.338794</td>\n",
       "      <td>66.256028</td>\n",
       "      <td>61.119149</td>\n",
       "      <td>29.317331</td>\n",
       "      <td>55.757415</td>\n",
       "      <td>40.177307</td>\n",
       "      <td>496.123024</td>\n",
       "      <td>2.703626</td>\n",
       "      <td>1.328095</td>\n",
       "      <td>79442.502883</td>\n",
       "    </tr>\n",
       "    <tr>\n",
       "      <th>min</th>\n",
       "      <td>1.000000</td>\n",
       "      <td>20.000000</td>\n",
       "      <td>21.000000</td>\n",
       "      <td>1300.000000</td>\n",
       "      <td>1.000000</td>\n",
       "      <td>1.000000</td>\n",
       "      <td>1872.000000</td>\n",
       "      <td>1950.000000</td>\n",
       "      <td>0.000000</td>\n",
       "      <td>0.000000</td>\n",
       "      <td>...</td>\n",
       "      <td>0.000000</td>\n",
       "      <td>0.000000</td>\n",
       "      <td>0.000000</td>\n",
       "      <td>0.000000</td>\n",
       "      <td>0.000000</td>\n",
       "      <td>0.000000</td>\n",
       "      <td>0.000000</td>\n",
       "      <td>1.000000</td>\n",
       "      <td>2006.000000</td>\n",
       "      <td>34900.000000</td>\n",
       "    </tr>\n",
       "    <tr>\n",
       "      <th>25%</th>\n",
       "      <td>365.750000</td>\n",
       "      <td>20.000000</td>\n",
       "      <td>59.000000</td>\n",
       "      <td>7553.500000</td>\n",
       "      <td>5.000000</td>\n",
       "      <td>5.000000</td>\n",
       "      <td>1954.000000</td>\n",
       "      <td>1967.000000</td>\n",
       "      <td>0.000000</td>\n",
       "      <td>0.000000</td>\n",
       "      <td>...</td>\n",
       "      <td>0.000000</td>\n",
       "      <td>0.000000</td>\n",
       "      <td>0.000000</td>\n",
       "      <td>0.000000</td>\n",
       "      <td>0.000000</td>\n",
       "      <td>0.000000</td>\n",
       "      <td>0.000000</td>\n",
       "      <td>5.000000</td>\n",
       "      <td>2007.000000</td>\n",
       "      <td>129975.000000</td>\n",
       "    </tr>\n",
       "    <tr>\n",
       "      <th>50%</th>\n",
       "      <td>730.500000</td>\n",
       "      <td>50.000000</td>\n",
       "      <td>69.000000</td>\n",
       "      <td>9478.500000</td>\n",
       "      <td>6.000000</td>\n",
       "      <td>5.000000</td>\n",
       "      <td>1973.000000</td>\n",
       "      <td>1994.000000</td>\n",
       "      <td>0.000000</td>\n",
       "      <td>383.500000</td>\n",
       "      <td>...</td>\n",
       "      <td>0.000000</td>\n",
       "      <td>25.000000</td>\n",
       "      <td>0.000000</td>\n",
       "      <td>0.000000</td>\n",
       "      <td>0.000000</td>\n",
       "      <td>0.000000</td>\n",
       "      <td>0.000000</td>\n",
       "      <td>6.000000</td>\n",
       "      <td>2008.000000</td>\n",
       "      <td>163000.000000</td>\n",
       "    </tr>\n",
       "    <tr>\n",
       "      <th>75%</th>\n",
       "      <td>1095.250000</td>\n",
       "      <td>70.000000</td>\n",
       "      <td>80.000000</td>\n",
       "      <td>11601.500000</td>\n",
       "      <td>7.000000</td>\n",
       "      <td>6.000000</td>\n",
       "      <td>2000.000000</td>\n",
       "      <td>2004.000000</td>\n",
       "      <td>166.000000</td>\n",
       "      <td>712.250000</td>\n",
       "      <td>...</td>\n",
       "      <td>168.000000</td>\n",
       "      <td>68.000000</td>\n",
       "      <td>0.000000</td>\n",
       "      <td>0.000000</td>\n",
       "      <td>0.000000</td>\n",
       "      <td>0.000000</td>\n",
       "      <td>0.000000</td>\n",
       "      <td>8.000000</td>\n",
       "      <td>2009.000000</td>\n",
       "      <td>214000.000000</td>\n",
       "    </tr>\n",
       "    <tr>\n",
       "      <th>max</th>\n",
       "      <td>1460.000000</td>\n",
       "      <td>190.000000</td>\n",
       "      <td>313.000000</td>\n",
       "      <td>215245.000000</td>\n",
       "      <td>10.000000</td>\n",
       "      <td>9.000000</td>\n",
       "      <td>2010.000000</td>\n",
       "      <td>2010.000000</td>\n",
       "      <td>1600.000000</td>\n",
       "      <td>5644.000000</td>\n",
       "      <td>...</td>\n",
       "      <td>857.000000</td>\n",
       "      <td>547.000000</td>\n",
       "      <td>552.000000</td>\n",
       "      <td>508.000000</td>\n",
       "      <td>480.000000</td>\n",
       "      <td>738.000000</td>\n",
       "      <td>15500.000000</td>\n",
       "      <td>12.000000</td>\n",
       "      <td>2010.000000</td>\n",
       "      <td>755000.000000</td>\n",
       "    </tr>\n",
       "  </tbody>\n",
       "</table>\n",
       "<p>8 rows × 38 columns</p>\n",
       "</div>"
      ],
      "text/plain": [
       "                Id   MSSubClass  LotFrontage        LotArea  OverallQual  \\\n",
       "count  1460.000000  1460.000000  1201.000000    1460.000000  1460.000000   \n",
       "mean    730.500000    56.897260    70.049958   10516.828082     6.099315   \n",
       "std     421.610009    42.300571    24.284752    9981.264932     1.382997   \n",
       "min       1.000000    20.000000    21.000000    1300.000000     1.000000   \n",
       "25%     365.750000    20.000000    59.000000    7553.500000     5.000000   \n",
       "50%     730.500000    50.000000    69.000000    9478.500000     6.000000   \n",
       "75%    1095.250000    70.000000    80.000000   11601.500000     7.000000   \n",
       "max    1460.000000   190.000000   313.000000  215245.000000    10.000000   \n",
       "\n",
       "       OverallCond    YearBuilt  YearRemodAdd   MasVnrArea   BsmtFinSF1  ...  \\\n",
       "count  1460.000000  1460.000000   1460.000000  1452.000000  1460.000000  ...   \n",
       "mean      5.575342  1971.267808   1984.865753   103.685262   443.639726  ...   \n",
       "std       1.112799    30.202904     20.645407   181.066207   456.098091  ...   \n",
       "min       1.000000  1872.000000   1950.000000     0.000000     0.000000  ...   \n",
       "25%       5.000000  1954.000000   1967.000000     0.000000     0.000000  ...   \n",
       "50%       5.000000  1973.000000   1994.000000     0.000000   383.500000  ...   \n",
       "75%       6.000000  2000.000000   2004.000000   166.000000   712.250000  ...   \n",
       "max       9.000000  2010.000000   2010.000000  1600.000000  5644.000000  ...   \n",
       "\n",
       "        WoodDeckSF  OpenPorchSF  EnclosedPorch    3SsnPorch  ScreenPorch  \\\n",
       "count  1460.000000  1460.000000    1460.000000  1460.000000  1460.000000   \n",
       "mean     94.244521    46.660274      21.954110     3.409589    15.060959   \n",
       "std     125.338794    66.256028      61.119149    29.317331    55.757415   \n",
       "min       0.000000     0.000000       0.000000     0.000000     0.000000   \n",
       "25%       0.000000     0.000000       0.000000     0.000000     0.000000   \n",
       "50%       0.000000    25.000000       0.000000     0.000000     0.000000   \n",
       "75%     168.000000    68.000000       0.000000     0.000000     0.000000   \n",
       "max     857.000000   547.000000     552.000000   508.000000   480.000000   \n",
       "\n",
       "          PoolArea       MiscVal       MoSold       YrSold      SalePrice  \n",
       "count  1460.000000   1460.000000  1460.000000  1460.000000    1460.000000  \n",
       "mean      2.758904     43.489041     6.321918  2007.815753  180921.195890  \n",
       "std      40.177307    496.123024     2.703626     1.328095   79442.502883  \n",
       "min       0.000000      0.000000     1.000000  2006.000000   34900.000000  \n",
       "25%       0.000000      0.000000     5.000000  2007.000000  129975.000000  \n",
       "50%       0.000000      0.000000     6.000000  2008.000000  163000.000000  \n",
       "75%       0.000000      0.000000     8.000000  2009.000000  214000.000000  \n",
       "max     738.000000  15500.000000    12.000000  2010.000000  755000.000000  \n",
       "\n",
       "[8 rows x 38 columns]"
      ]
     },
     "execution_count": 12,
     "metadata": {},
     "output_type": "execute_result"
    }
   ],
   "source": [
    "train_df.describe()"
   ]
  },
  {
   "cell_type": "code",
   "execution_count": 13,
   "id": "bdbb3576",
   "metadata": {
    "execution": {
     "iopub.execute_input": "2022-09-29T23:08:21.670109Z",
     "iopub.status.busy": "2022-09-29T23:08:21.669633Z",
     "iopub.status.idle": "2022-09-29T23:08:29.008916Z",
     "shell.execute_reply": "2022-09-29T23:08:29.007237Z"
    },
    "papermill": {
     "duration": 7.361788,
     "end_time": "2022-09-29T23:08:29.012117",
     "exception": false,
     "start_time": "2022-09-29T23:08:21.650329",
     "status": "completed"
    },
    "tags": []
   },
   "outputs": [
    {
     "data": {
      "image/png": "[encoded data removed]",
      "text/plain": [
       "<Figure size 1440x1440 with 42 Axes>"
      ]
     },
     "metadata": {
      "needs_background": "light"
     },
     "output_type": "display_data"
    }
   ],
   "source": [
    "#histogram to preview the type of distribution\n",
    "train_df.hist(bins=50, figsize=(20,20))\n",
    "plt.show()"
   ]
  },
  {
   "cell_type": "code",
   "execution_count": 14,
   "id": "ffb9007e",
   "metadata": {
    "execution": {
     "iopub.execute_input": "2022-09-29T23:08:29.054410Z",
     "iopub.status.busy": "2022-09-29T23:08:29.053959Z",
     "iopub.status.idle": "2022-09-29T23:08:29.073963Z",
     "shell.execute_reply": "2022-09-29T23:08:29.072736Z"
    },
    "papermill": {
     "duration": 0.044054,
     "end_time": "2022-09-29T23:08:29.076689",
     "exception": false,
     "start_time": "2022-09-29T23:08:29.032635",
     "status": "completed"
    },
    "tags": []
   },
   "outputs": [
    {
     "data": {
      "text/plain": [
       "SalePrice        1.000000\n",
       "OverallQual      0.790982\n",
       "GrLivArea        0.708624\n",
       "GarageCars       0.640409\n",
       "GarageArea       0.623431\n",
       "TotalBsmtSF      0.613581\n",
       "1stFlrSF         0.605852\n",
       "FullBath         0.560664\n",
       "TotRmsAbvGrd     0.533723\n",
       "YearBuilt        0.522897\n",
       "YearRemodAdd     0.507101\n",
       "GarageYrBlt      0.486362\n",
       "MasVnrArea       0.477493\n",
       "Fireplaces       0.466929\n",
       "BsmtFinSF1       0.386420\n",
       "LotFrontage      0.351799\n",
       "WoodDeckSF       0.324413\n",
       "2ndFlrSF         0.319334\n",
       "OpenPorchSF      0.315856\n",
       "HalfBath         0.284108\n",
       "LotArea          0.263843\n",
       "BsmtFullBath     0.227122\n",
       "BsmtUnfSF        0.214479\n",
       "BedroomAbvGr     0.168213\n",
       "ScreenPorch      0.111447\n",
       "PoolArea         0.092404\n",
       "MoSold           0.046432\n",
       "3SsnPorch        0.044584\n",
       "BsmtFinSF2      -0.011378\n",
       "BsmtHalfBath    -0.016844\n",
       "MiscVal         -0.021190\n",
       "Id              -0.021917\n",
       "LowQualFinSF    -0.025606\n",
       "YrSold          -0.028923\n",
       "OverallCond     -0.077856\n",
       "MSSubClass      -0.084284\n",
       "EnclosedPorch   -0.128578\n",
       "KitchenAbvGr    -0.135907\n",
       "Name: SalePrice, dtype: float64"
      ]
     },
     "execution_count": 14,
     "metadata": {},
     "output_type": "execute_result"
    }
   ],
   "source": [
    "#Determine the correlation btween\n",
    "train_df.corr()['SalePrice'].sort_values(ascending=False)"
   ]
  },
  {
   "cell_type": "markdown",
   "id": "4538a80b",
   "metadata": {
    "papermill": {
     "duration": 0.019389,
     "end_time": "2022-09-29T23:08:29.115985",
     "exception": false,
     "start_time": "2022-09-29T23:08:29.096596",
     "status": "completed"
    },
    "tags": []
   },
   "source": [
    "### Remove columns that have less "
   ]
  },
  {
   "cell_type": "code",
   "execution_count": 15,
   "id": "d9972b04",
   "metadata": {
    "execution": {
     "iopub.execute_input": "2022-09-29T23:08:29.162710Z",
     "iopub.status.busy": "2022-09-29T23:08:29.161914Z",
     "iopub.status.idle": "2022-09-29T23:08:29.170248Z",
     "shell.execute_reply": "2022-09-29T23:08:29.168925Z"
    },
    "papermill": {
     "duration": 0.036219,
     "end_time": "2022-09-29T23:08:29.172854",
     "exception": false,
     "start_time": "2022-09-29T23:08:29.136635",
     "status": "completed"
    },
    "tags": []
   },
   "outputs": [],
   "source": [
    "train_df =train_df.drop(['Alley','Fence','MiscFeature','PoolQC'],axis=1)"
   ]
  },
  {
   "cell_type": "code",
   "execution_count": 16,
   "id": "48e469f6",
   "metadata": {
    "execution": {
     "iopub.execute_input": "2022-09-29T23:08:29.215843Z",
     "iopub.status.busy": "2022-09-29T23:08:29.215376Z",
     "iopub.status.idle": "2022-09-29T23:08:29.223150Z",
     "shell.execute_reply": "2022-09-29T23:08:29.221878Z"
    },
    "papermill": {
     "duration": 0.032419,
     "end_time": "2022-09-29T23:08:29.225504",
     "exception": false,
     "start_time": "2022-09-29T23:08:29.193085",
     "status": "completed"
    },
    "tags": []
   },
   "outputs": [
    {
     "data": {
      "text/plain": [
       "(1460, 77)"
      ]
     },
     "execution_count": 16,
     "metadata": {},
     "output_type": "execute_result"
    }
   ],
   "source": [
    "train_df.shape"
   ]
  },
  {
   "cell_type": "markdown",
   "id": "98ce493f",
   "metadata": {
    "papermill": {
     "duration": 0.019827,
     "end_time": "2022-09-29T23:08:29.265646",
     "exception": false,
     "start_time": "2022-09-29T23:08:29.245819",
     "status": "completed"
    },
    "tags": []
   },
   "source": [
    "### Fill missing values of columns with null values"
   ]
  },
  {
   "cell_type": "code",
   "execution_count": 17,
   "id": "e4947f0b",
   "metadata": {
    "execution": {
     "iopub.execute_input": "2022-09-29T23:08:29.308481Z",
     "iopub.status.busy": "2022-09-29T23:08:29.307636Z",
     "iopub.status.idle": "2022-09-29T23:08:29.330074Z",
     "shell.execute_reply": "2022-09-29T23:08:29.327897Z"
    },
    "papermill": {
     "duration": 0.048138,
     "end_time": "2022-09-29T23:08:29.334082",
     "exception": false,
     "start_time": "2022-09-29T23:08:29.285944",
     "status": "completed"
    },
    "tags": []
   },
   "outputs": [
    {
     "name": "stdout",
     "output_type": "stream",
     "text": [
      "<class 'pandas.core.frame.DataFrame'>\n",
      "RangeIndex: 1460 entries, 0 to 1459\n",
      "Data columns (total 77 columns):\n",
      " #   Column         Non-Null Count  Dtype  \n",
      "---  ------         --------------  -----  \n",
      " 0   Id             1460 non-null   int64  \n",
      " 1   MSSubClass     1460 non-null   int64  \n",
      " 2   MSZoning       1460 non-null   object \n",
      " 3   LotFrontage    1201 non-null   float64\n",
      " 4   LotArea        1460 non-null   int64  \n",
      " 5   Street         1460 non-null   object \n",
      " 6   LotShape       1460 non-null   object \n",
      " 7   LandContour    1460 non-null   object \n",
      " 8   Utilities      1460 non-null   object \n",
      " 9   LotConfig      1460 non-null   object \n",
      " 10  LandSlope      1460 non-null   object \n",
      " 11  Neighborhood   1460 non-null   object \n",
      " 12  Condition1     1460 non-null   object \n",
      " 13  Condition2     1460 non-null   object \n",
      " 14  BldgType       1460 non-null   object \n",
      " 15  HouseStyle     1460 non-null   object \n",
      " 16  OverallQual    1460 non-null   int64  \n",
      " 17  OverallCond    1460 non-null   int64  \n",
      " 18  YearBuilt      1460 non-null   int64  \n",
      " 19  YearRemodAdd   1460 non-null   int64  \n",
      " 20  RoofStyle      1460 non-null   object \n",
      " 21  RoofMatl       1460 non-null   object \n",
      " 22  Exterior1st    1460 non-null   object \n",
      " 23  Exterior2nd    1460 non-null   object \n",
      " 24  MasVnrType     1452 non-null   object \n",
      " 25  MasVnrArea     1452 non-null   float64\n",
      " 26  ExterQual      1460 non-null   object \n",
      " 27  ExterCond      1460 non-null   object \n",
      " 28  Foundation     1460 non-null   object \n",
      " 29  BsmtQual       1423 non-null   object \n",
      " 30  BsmtCond       1423 non-null   object \n",
      " 31  BsmtExposure   1422 non-null   object \n",
      " 32  BsmtFinType1   1423 non-null   object \n",
      " 33  BsmtFinSF1     1460 non-null   int64  \n",
      " 34  BsmtFinType2   1422 non-null   object \n",
      " 35  BsmtFinSF2     1460 non-null   int64  \n",
      " 36  BsmtUnfSF      1460 non-null   int64  \n",
      " 37  TotalBsmtSF    1460 non-null   int64  \n",
      " 38  Heating        1460 non-null   object \n",
      " 39  HeatingQC      1460 non-null   object \n",
      " 40  CentralAir     1460 non-null   object \n",
      " 41  Electrical     1459 non-null   object \n",
      " 42  1stFlrSF       1460 non-null   int64  \n",
      " 43  2ndFlrSF       1460 non-null   int64  \n",
      " 44  LowQualFinSF   1460 non-null   int64  \n",
      " 45  GrLivArea      1460 non-null   int64  \n",
      " 46  BsmtFullBath   1460 non-null   int64  \n",
      " 47  BsmtHalfBath   1460 non-null   int64  \n",
      " 48  FullBath       1460 non-null   int64  \n",
      " 49  HalfBath       1460 non-null   int64  \n",
      " 50  BedroomAbvGr   1460 non-null   int64  \n",
      " 51  KitchenAbvGr   1460 non-null   int64  \n",
      " 52  KitchenQual    1460 non-null   object \n",
      " 53  TotRmsAbvGrd   1460 non-null   int64  \n",
      " 54  Functional     1460 non-null   object \n",
      " 55  Fireplaces     1460 non-null   int64  \n",
      " 56  FireplaceQu    770 non-null    object \n",
      " 57  GarageType     1379 non-null   object \n",
      " 58  GarageYrBlt    1379 non-null   float64\n",
      " 59  GarageFinish   1379 non-null   object \n",
      " 60  GarageCars     1460 non-null   int64  \n",
      " 61  GarageArea     1460 non-null   int64  \n",
      " 62  GarageQual     1379 non-null   object \n",
      " 63  GarageCond     1379 non-null   object \n",
      " 64  PavedDrive     1460 non-null   object \n",
      " 65  WoodDeckSF     1460 non-null   int64  \n",
      " 66  OpenPorchSF    1460 non-null   int64  \n",
      " 67  EnclosedPorch  1460 non-null   int64  \n",
      " 68  3SsnPorch      1460 non-null   int64  \n",
      " 69  ScreenPorch    1460 non-null   int64  \n",
      " 70  PoolArea       1460 non-null   int64  \n",
      " 71  MiscVal        1460 non-null   int64  \n",
      " 72  MoSold         1460 non-null   int64  \n",
      " 73  YrSold         1460 non-null   int64  \n",
      " 74  SaleType       1460 non-null   object \n",
      " 75  SaleCondition  1460 non-null   object \n",
      " 76  SalePrice      1460 non-null   int64  \n",
      "dtypes: float64(3), int64(35), object(39)\n",
      "memory usage: 878.4+ KB\n"
     ]
    }
   ],
   "source": [
    "train_df.info()"
   ]
  },
  {
   "cell_type": "code",
   "execution_count": 18,
   "id": "06e8493d",
   "metadata": {
    "execution": {
     "iopub.execute_input": "2022-09-29T23:08:29.377284Z",
     "iopub.status.busy": "2022-09-29T23:08:29.376522Z",
     "iopub.status.idle": "2022-09-29T23:08:29.390990Z",
     "shell.execute_reply": "2022-09-29T23:08:29.389721Z"
    },
    "papermill": {
     "duration": 0.038604,
     "end_time": "2022-09-29T23:08:29.393580",
     "exception": false,
     "start_time": "2022-09-29T23:08:29.354976",
     "status": "completed"
    },
    "tags": []
   },
   "outputs": [
    {
     "data": {
      "text/plain": [
       "FireplaceQu     690\n",
       "LotFrontage     259\n",
       "GarageType       81\n",
       "GarageYrBlt      81\n",
       "GarageFinish     81\n",
       "               ... \n",
       "BsmtUnfSF         0\n",
       "TotalBsmtSF       0\n",
       "MSSubClass        0\n",
       "HeatingQC         0\n",
       "SalePrice         0\n",
       "Length: 77, dtype: int64"
      ]
     },
     "execution_count": 18,
     "metadata": {},
     "output_type": "execute_result"
    }
   ],
   "source": [
    "train_df.isnull().sum().sort_values(ascending=False)"
   ]
  },
  {
   "cell_type": "code",
   "execution_count": 19,
   "id": "11be1243",
   "metadata": {
    "execution": {
     "iopub.execute_input": "2022-09-29T23:08:29.436542Z",
     "iopub.status.busy": "2022-09-29T23:08:29.436143Z",
     "iopub.status.idle": "2022-09-29T23:08:29.446256Z",
     "shell.execute_reply": "2022-09-29T23:08:29.445196Z"
    },
    "papermill": {
     "duration": 0.034192,
     "end_time": "2022-09-29T23:08:29.448554",
     "exception": false,
     "start_time": "2022-09-29T23:08:29.414362",
     "status": "completed"
    },
    "tags": []
   },
   "outputs": [
    {
     "data": {
      "text/plain": [
       "0"
      ]
     },
     "execution_count": 19,
     "metadata": {},
     "output_type": "execute_result"
    }
   ],
   "source": [
    "train_df['LotFrontage'] = train_df['LotFrontage'].fillna(train_df['LotFrontage'].median())\n",
    "train_df['LotFrontage'].isnull().sum()"
   ]
  },
  {
   "cell_type": "code",
   "execution_count": 20,
   "id": "a755237e",
   "metadata": {
    "execution": {
     "iopub.execute_input": "2022-09-29T23:08:29.491108Z",
     "iopub.status.busy": "2022-09-29T23:08:29.490660Z",
     "iopub.status.idle": "2022-09-29T23:08:29.500843Z",
     "shell.execute_reply": "2022-09-29T23:08:29.499537Z"
    },
    "papermill": {
     "duration": 0.034848,
     "end_time": "2022-09-29T23:08:29.503463",
     "exception": false,
     "start_time": "2022-09-29T23:08:29.468615",
     "status": "completed"
    },
    "tags": []
   },
   "outputs": [
    {
     "data": {
      "text/plain": [
       "0"
      ]
     },
     "execution_count": 20,
     "metadata": {},
     "output_type": "execute_result"
    }
   ],
   "source": [
    "train_df['GarageYrBlt'] = train_df['GarageYrBlt'].fillna(train_df['GarageYrBlt'].median())\n",
    "train_df['GarageYrBlt'].isnull().sum()"
   ]
  },
  {
   "cell_type": "markdown",
   "id": "7956e03f",
   "metadata": {
    "papermill": {
     "duration": 0.021216,
     "end_time": "2022-09-29T23:08:29.545366",
     "exception": false,
     "start_time": "2022-09-29T23:08:29.524150",
     "status": "completed"
    },
    "tags": []
   },
   "source": [
    "#### Fill the non-numeric column datatype that have null values with the mode of the columns"
   ]
  },
  {
   "cell_type": "code",
   "execution_count": 21,
   "id": "bac62808",
   "metadata": {
    "execution": {
     "iopub.execute_input": "2022-09-29T23:08:29.588234Z",
     "iopub.status.busy": "2022-09-29T23:08:29.587808Z",
     "iopub.status.idle": "2022-09-29T23:08:29.606034Z",
     "shell.execute_reply": "2022-09-29T23:08:29.604722Z"
    },
    "papermill": {
     "duration": 0.042821,
     "end_time": "2022-09-29T23:08:29.608460",
     "exception": false,
     "start_time": "2022-09-29T23:08:29.565639",
     "status": "completed"
    },
    "tags": []
   },
   "outputs": [
    {
     "data": {
      "text/plain": [
       "MasVnrType        8\n",
       "MasVnrArea        8\n",
       "BsmtQual         37\n",
       "BsmtCond         37\n",
       "BsmtExposure     38\n",
       "BsmtFinType1     37\n",
       "BsmtFinType2     38\n",
       "Electrical        1\n",
       "FireplaceQu     690\n",
       "GarageType       81\n",
       "GarageFinish     81\n",
       "GarageQual       81\n",
       "GarageCond       81\n",
       "dtype: int64"
      ]
     },
     "execution_count": 21,
     "metadata": {},
     "output_type": "execute_result"
    }
   ],
   "source": [
    "train_df.isnull().sum()[train_df.isnull().sum()>0]"
   ]
  },
  {
   "cell_type": "code",
   "execution_count": 22,
   "id": "2419b3d6",
   "metadata": {
    "execution": {
     "iopub.execute_input": "2022-09-29T23:08:29.651180Z",
     "iopub.status.busy": "2022-09-29T23:08:29.650709Z",
     "iopub.status.idle": "2022-09-29T23:08:29.660999Z",
     "shell.execute_reply": "2022-09-29T23:08:29.659866Z"
    },
    "papermill": {
     "duration": 0.034179,
     "end_time": "2022-09-29T23:08:29.663325",
     "exception": false,
     "start_time": "2022-09-29T23:08:29.629146",
     "status": "completed"
    },
    "tags": []
   },
   "outputs": [
    {
     "data": {
      "text/plain": [
       "0"
      ]
     },
     "execution_count": 22,
     "metadata": {},
     "output_type": "execute_result"
    }
   ],
   "source": [
    "train_df['MasVnrType'].fillna(train_df['MasVnrType'].mode()[0],inplace=True)\n",
    "train_df['MasVnrType'].isnull().sum()"
   ]
  },
  {
   "cell_type": "code",
   "execution_count": 23,
   "id": "8c9a6657",
   "metadata": {
    "execution": {
     "iopub.execute_input": "2022-09-29T23:08:29.706813Z",
     "iopub.status.busy": "2022-09-29T23:08:29.705647Z",
     "iopub.status.idle": "2022-09-29T23:08:29.727254Z",
     "shell.execute_reply": "2022-09-29T23:08:29.725965Z"
    },
    "papermill": {
     "duration": 0.046509,
     "end_time": "2022-09-29T23:08:29.730368",
     "exception": false,
     "start_time": "2022-09-29T23:08:29.683859",
     "status": "completed"
    },
    "tags": []
   },
   "outputs": [],
   "source": [
    "train_df['MasVnrArea'].fillna(train_df['MasVnrArea'].mode()[0],inplace=True)\n",
    "train_df['BsmtQual'].fillna(train_df['BsmtQual'].mode()[0],inplace=True)\n",
    "train_df['BsmtCond'].fillna(train_df['BsmtCond'].mode()[0],inplace=True)\n",
    "train_df['BsmtExposure'].fillna(train_df['BsmtExposure'].mode()[0],inplace=True)\n",
    "train_df['BsmtFinType1'].fillna(train_df['BsmtFinType1'].mode()[0],inplace=True)\n",
    "train_df['Electrical'].fillna(train_df['Electrical'].mode()[0],inplace=True)\n",
    "train_df['GarageType'].fillna(train_df['GarageType'].mode()[0],inplace=True)\n",
    "train_df['GarageFinish'].fillna(train_df['GarageFinish'].mode()[0],inplace=True)\n",
    "train_df['GarageQual'].fillna(train_df['GarageQual'].mode()[0],inplace=True)\n",
    "train_df['GarageCond'].fillna(train_df['GarageCond'].mode()[0],inplace=True)"
   ]
  },
  {
   "cell_type": "code",
   "execution_count": 24,
   "id": "1743be44",
   "metadata": {
    "execution": {
     "iopub.execute_input": "2022-09-29T23:08:29.773099Z",
     "iopub.status.busy": "2022-09-29T23:08:29.772658Z",
     "iopub.status.idle": "2022-09-29T23:08:29.796440Z",
     "shell.execute_reply": "2022-09-29T23:08:29.793811Z"
    },
    "papermill": {
     "duration": 0.048421,
     "end_time": "2022-09-29T23:08:29.799229",
     "exception": false,
     "start_time": "2022-09-29T23:08:29.750808",
     "status": "completed"
    },
    "tags": []
   },
   "outputs": [
    {
     "name": "stdout",
     "output_type": "stream",
     "text": [
      "<class 'pandas.core.frame.DataFrame'>\n",
      "RangeIndex: 1460 entries, 0 to 1459\n",
      "Data columns (total 77 columns):\n",
      " #   Column         Non-Null Count  Dtype  \n",
      "---  ------         --------------  -----  \n",
      " 0   Id             1460 non-null   int64  \n",
      " 1   MSSubClass     1460 non-null   int64  \n",
      " 2   MSZoning       1460 non-null   object \n",
      " 3   LotFrontage    1460 non-null   float64\n",
      " 4   LotArea        1460 non-null   int64  \n",
      " 5   Street         1460 non-null   object \n",
      " 6   LotShape       1460 non-null   object \n",
      " 7   LandContour    1460 non-null   object \n",
      " 8   Utilities      1460 non-null   object \n",
      " 9   LotConfig      1460 non-null   object \n",
      " 10  LandSlope      1460 non-null   object \n",
      " 11  Neighborhood   1460 non-null   object \n",
      " 12  Condition1     1460 non-null   object \n",
      " 13  Condition2     1460 non-null   object \n",
      " 14  BldgType       1460 non-null   object \n",
      " 15  HouseStyle     1460 non-null   object \n",
      " 16  OverallQual    1460 non-null   int64  \n",
      " 17  OverallCond    1460 non-null   int64  \n",
      " 18  YearBuilt      1460 non-null   int64  \n",
      " 19  YearRemodAdd   1460 non-null   int64  \n",
      " 20  RoofStyle      1460 non-null   object \n",
      " 21  RoofMatl       1460 non-null   object \n",
      " 22  Exterior1st    1460 non-null   object \n",
      " 23  Exterior2nd    1460 non-null   object \n",
      " 24  MasVnrType     1460 non-null   object \n",
      " 25  MasVnrArea     1460 non-null   float64\n",
      " 26  ExterQual      1460 non-null   object \n",
      " 27  ExterCond      1460 non-null   object \n",
      " 28  Foundation     1460 non-null   object \n",
      " 29  BsmtQual       1460 non-null   object \n",
      " 30  BsmtCond       1460 non-null   object \n",
      " 31  BsmtExposure   1460 non-null   object \n",
      " 32  BsmtFinType1   1460 non-null   object \n",
      " 33  BsmtFinSF1     1460 non-null   int64  \n",
      " 34  BsmtFinType2   1422 non-null   object \n",
      " 35  BsmtFinSF2     1460 non-null   int64  \n",
      " 36  BsmtUnfSF      1460 non-null   int64  \n",
      " 37  TotalBsmtSF    1460 non-null   int64  \n",
      " 38  Heating        1460 non-null   object \n",
      " 39  HeatingQC      1460 non-null   object \n",
      " 40  CentralAir     1460 non-null   object \n",
      " 41  Electrical     1460 non-null   object \n",
      " 42  1stFlrSF       1460 non-null   int64  \n",
      " 43  2ndFlrSF       1460 non-null   int64  \n",
      " 44  LowQualFinSF   1460 non-null   int64  \n",
      " 45  GrLivArea      1460 non-null   int64  \n",
      " 46  BsmtFullBath   1460 non-null   int64  \n",
      " 47  BsmtHalfBath   1460 non-null   int64  \n",
      " 48  FullBath       1460 non-null   int64  \n",
      " 49  HalfBath       1460 non-null   int64  \n",
      " 50  BedroomAbvGr   1460 non-null   int64  \n",
      " 51  KitchenAbvGr   1460 non-null   int64  \n",
      " 52  KitchenQual    1460 non-null   object \n",
      " 53  TotRmsAbvGrd   1460 non-null   int64  \n",
      " 54  Functional     1460 non-null   object \n",
      " 55  Fireplaces     1460 non-null   int64  \n",
      " 56  FireplaceQu    770 non-null    object \n",
      " 57  GarageType     1460 non-null   object \n",
      " 58  GarageYrBlt    1460 non-null   float64\n",
      " 59  GarageFinish   1460 non-null   object \n",
      " 60  GarageCars     1460 non-null   int64  \n",
      " 61  GarageArea     1460 non-null   int64  \n",
      " 62  GarageQual     1460 non-null   object \n",
      " 63  GarageCond     1460 non-null   object \n",
      " 64  PavedDrive     1460 non-null   object \n",
      " 65  WoodDeckSF     1460 non-null   int64  \n",
      " 66  OpenPorchSF    1460 non-null   int64  \n",
      " 67  EnclosedPorch  1460 non-null   int64  \n",
      " 68  3SsnPorch      1460 non-null   int64  \n",
      " 69  ScreenPorch    1460 non-null   int64  \n",
      " 70  PoolArea       1460 non-null   int64  \n",
      " 71  MiscVal        1460 non-null   int64  \n",
      " 72  MoSold         1460 non-null   int64  \n",
      " 73  YrSold         1460 non-null   int64  \n",
      " 74  SaleType       1460 non-null   object \n",
      " 75  SaleCondition  1460 non-null   object \n",
      " 76  SalePrice      1460 non-null   int64  \n",
      "dtypes: float64(3), int64(35), object(39)\n",
      "memory usage: 878.4+ KB\n"
     ]
    }
   ],
   "source": [
    "train_df.info()"
   ]
  },
  {
   "cell_type": "code",
   "execution_count": 25,
   "id": "c24469ad",
   "metadata": {
    "execution": {
     "iopub.execute_input": "2022-09-29T23:08:29.842716Z",
     "iopub.status.busy": "2022-09-29T23:08:29.842309Z",
     "iopub.status.idle": "2022-09-29T23:08:29.850845Z",
     "shell.execute_reply": "2022-09-29T23:08:29.849462Z"
    },
    "papermill": {
     "duration": 0.033049,
     "end_time": "2022-09-29T23:08:29.853339",
     "exception": false,
     "start_time": "2022-09-29T23:08:29.820290",
     "status": "completed"
    },
    "tags": []
   },
   "outputs": [],
   "source": [
    "#drop fireplace column\n",
    "train_df=train_df.drop('FireplaceQu',axis=1)"
   ]
  },
  {
   "cell_type": "code",
   "execution_count": 26,
   "id": "31ae5be3",
   "metadata": {
    "execution": {
     "iopub.execute_input": "2022-09-29T23:08:29.897027Z",
     "iopub.status.busy": "2022-09-29T23:08:29.896525Z",
     "iopub.status.idle": "2022-09-29T23:08:29.903670Z",
     "shell.execute_reply": "2022-09-29T23:08:29.902415Z"
    },
    "papermill": {
     "duration": 0.031852,
     "end_time": "2022-09-29T23:08:29.906422",
     "exception": false,
     "start_time": "2022-09-29T23:08:29.874570",
     "status": "completed"
    },
    "tags": []
   },
   "outputs": [],
   "source": [
    "train_df['BsmtFinType2'].fillna(train_df['BsmtFinType2'].mode()[0],inplace=True)"
   ]
  },
  {
   "cell_type": "code",
   "execution_count": 27,
   "id": "83b50f37",
   "metadata": {
    "execution": {
     "iopub.execute_input": "2022-09-29T23:08:29.948934Z",
     "iopub.status.busy": "2022-09-29T23:08:29.948475Z",
     "iopub.status.idle": "2022-09-29T23:08:29.965820Z",
     "shell.execute_reply": "2022-09-29T23:08:29.964704Z"
    },
    "papermill": {
     "duration": 0.041303,
     "end_time": "2022-09-29T23:08:29.968198",
     "exception": false,
     "start_time": "2022-09-29T23:08:29.926895",
     "status": "completed"
    },
    "tags": []
   },
   "outputs": [
    {
     "data": {
      "text/plain": [
       "Series([], dtype: int64)"
      ]
     },
     "execution_count": 27,
     "metadata": {},
     "output_type": "execute_result"
    }
   ],
   "source": [
    "train_df.isnull().sum()[train_df.isnull().sum()>0]"
   ]
  },
  {
   "cell_type": "code",
   "execution_count": 28,
   "id": "6de86642",
   "metadata": {
    "execution": {
     "iopub.execute_input": "2022-09-29T23:08:30.011738Z",
     "iopub.status.busy": "2022-09-29T23:08:30.011340Z",
     "iopub.status.idle": "2022-09-29T23:08:30.032285Z",
     "shell.execute_reply": "2022-09-29T23:08:30.030734Z"
    },
    "papermill": {
     "duration": 0.045648,
     "end_time": "2022-09-29T23:08:30.034870",
     "exception": false,
     "start_time": "2022-09-29T23:08:29.989222",
     "status": "completed"
    },
    "tags": []
   },
   "outputs": [
    {
     "name": "stdout",
     "output_type": "stream",
     "text": [
      "<class 'pandas.core.frame.DataFrame'>\n",
      "RangeIndex: 1460 entries, 0 to 1459\n",
      "Data columns (total 76 columns):\n",
      " #   Column         Non-Null Count  Dtype  \n",
      "---  ------         --------------  -----  \n",
      " 0   Id             1460 non-null   int64  \n",
      " 1   MSSubClass     1460 non-null   int64  \n",
      " 2   MSZoning       1460 non-null   object \n",
      " 3   LotFrontage    1460 non-null   float64\n",
      " 4   LotArea        1460 non-null   int64  \n",
      " 5   Street         1460 non-null   object \n",
      " 6   LotShape       1460 non-null   object \n",
      " 7   LandContour    1460 non-null   object \n",
      " 8   Utilities      1460 non-null   object \n",
      " 9   LotConfig      1460 non-null   object \n",
      " 10  LandSlope      1460 non-null   object \n",
      " 11  Neighborhood   1460 non-null   object \n",
      " 12  Condition1     1460 non-null   object \n",
      " 13  Condition2     1460 non-null   object \n",
      " 14  BldgType       1460 non-null   object \n",
      " 15  HouseStyle     1460 non-null   object \n",
      " 16  OverallQual    1460 non-null   int64  \n",
      " 17  OverallCond    1460 non-null   int64  \n",
      " 18  YearBuilt      1460 non-null   int64  \n",
      " 19  YearRemodAdd   1460 non-null   int64  \n",
      " 20  RoofStyle      1460 non-null   object \n",
      " 21  RoofMatl       1460 non-null   object \n",
      " 22  Exterior1st    1460 non-null   object \n",
      " 23  Exterior2nd    1460 non-null   object \n",
      " 24  MasVnrType     1460 non-null   object \n",
      " 25  MasVnrArea     1460 non-null   float64\n",
      " 26  ExterQual      1460 non-null   object \n",
      " 27  ExterCond      1460 non-null   object \n",
      " 28  Foundation     1460 non-null   object \n",
      " 29  BsmtQual       1460 non-null   object \n",
      " 30  BsmtCond       1460 non-null   object \n",
      " 31  BsmtExposure   1460 non-null   object \n",
      " 32  BsmtFinType1   1460 non-null   object \n",
      " 33  BsmtFinSF1     1460 non-null   int64  \n",
      " 34  BsmtFinType2   1460 non-null   object \n",
      " 35  BsmtFinSF2     1460 non-null   int64  \n",
      " 36  BsmtUnfSF      1460 non-null   int64  \n",
      " 37  TotalBsmtSF    1460 non-null   int64  \n",
      " 38  Heating        1460 non-null   object \n",
      " 39  HeatingQC      1460 non-null   object \n",
      " 40  CentralAir     1460 non-null   object \n",
      " 41  Electrical     1460 non-null   object \n",
      " 42  1stFlrSF       1460 non-null   int64  \n",
      " 43  2ndFlrSF       1460 non-null   int64  \n",
      " 44  LowQualFinSF   1460 non-null   int64  \n",
      " 45  GrLivArea      1460 non-null   int64  \n",
      " 46  BsmtFullBath   1460 non-null   int64  \n",
      " 47  BsmtHalfBath   1460 non-null   int64  \n",
      " 48  FullBath       1460 non-null   int64  \n",
      " 49  HalfBath       1460 non-null   int64  \n",
      " 50  BedroomAbvGr   1460 non-null   int64  \n",
      " 51  KitchenAbvGr   1460 non-null   int64  \n",
      " 52  KitchenQual    1460 non-null   object \n",
      " 53  TotRmsAbvGrd   1460 non-null   int64  \n",
      " 54  Functional     1460 non-null   object \n",
      " 55  Fireplaces     1460 non-null   int64  \n",
      " 56  GarageType     1460 non-null   object \n",
      " 57  GarageYrBlt    1460 non-null   float64\n",
      " 58  GarageFinish   1460 non-null   object \n",
      " 59  GarageCars     1460 non-null   int64  \n",
      " 60  GarageArea     1460 non-null   int64  \n",
      " 61  GarageQual     1460 non-null   object \n",
      " 62  GarageCond     1460 non-null   object \n",
      " 63  PavedDrive     1460 non-null   object \n",
      " 64  WoodDeckSF     1460 non-null   int64  \n",
      " 65  OpenPorchSF    1460 non-null   int64  \n",
      " 66  EnclosedPorch  1460 non-null   int64  \n",
      " 67  3SsnPorch      1460 non-null   int64  \n",
      " 68  ScreenPorch    1460 non-null   int64  \n",
      " 69  PoolArea       1460 non-null   int64  \n",
      " 70  MiscVal        1460 non-null   int64  \n",
      " 71  MoSold         1460 non-null   int64  \n",
      " 72  YrSold         1460 non-null   int64  \n",
      " 73  SaleType       1460 non-null   object \n",
      " 74  SaleCondition  1460 non-null   object \n",
      " 75  SalePrice      1460 non-null   int64  \n",
      "dtypes: float64(3), int64(35), object(38)\n",
      "memory usage: 867.0+ KB\n"
     ]
    }
   ],
   "source": [
    "train_df.info()"
   ]
  },
  {
   "cell_type": "code",
   "execution_count": 29,
   "id": "4c293594",
   "metadata": {
    "execution": {
     "iopub.execute_input": "2022-09-29T23:08:30.079597Z",
     "iopub.status.busy": "2022-09-29T23:08:30.078540Z",
     "iopub.status.idle": "2022-09-29T23:08:30.086576Z",
     "shell.execute_reply": "2022-09-29T23:08:30.085100Z"
    },
    "papermill": {
     "duration": 0.033376,
     "end_time": "2022-09-29T23:08:30.089710",
     "exception": false,
     "start_time": "2022-09-29T23:08:30.056334",
     "status": "completed"
    },
    "tags": []
   },
   "outputs": [
    {
     "data": {
      "text/plain": [
       "array(['Lvl', 'Bnk', 'Low', 'HLS'], dtype=object)"
      ]
     },
     "execution_count": 29,
     "metadata": {},
     "output_type": "execute_result"
    }
   ],
   "source": [
    "train_df.LandContour.unique()"
   ]
  },
  {
   "cell_type": "code",
   "execution_count": 30,
   "id": "b223999f",
   "metadata": {
    "execution": {
     "iopub.execute_input": "2022-09-29T23:08:30.134493Z",
     "iopub.status.busy": "2022-09-29T23:08:30.133787Z",
     "iopub.status.idle": "2022-09-29T23:08:30.293340Z",
     "shell.execute_reply": "2022-09-29T23:08:30.292009Z"
    },
    "papermill": {
     "duration": 0.185055,
     "end_time": "2022-09-29T23:08:30.296112",
     "exception": false,
     "start_time": "2022-09-29T23:08:30.111057",
     "status": "completed"
    },
    "tags": []
   },
   "outputs": [
    {
     "data": {
      "image/png": "[encoded data removed]",
      "text/plain": [
       "<Figure size 432x288 with 1 Axes>"
      ]
     },
     "metadata": {
      "needs_background": "light"
     },
     "output_type": "display_data"
    }
   ],
   "source": [
    "sns.barplot(x='Street',y='SalePrice',color='black',ci=None, data=train_df)\n",
    "plt.show()"
   ]
  },
  {
   "cell_type": "code",
   "execution_count": 31,
   "id": "31e753c9",
   "metadata": {
    "execution": {
     "iopub.execute_input": "2022-09-29T23:08:30.340885Z",
     "iopub.status.busy": "2022-09-29T23:08:30.340436Z",
     "iopub.status.idle": "2022-09-29T23:08:30.504810Z",
     "shell.execute_reply": "2022-09-29T23:08:30.502762Z"
    },
    "papermill": {
     "duration": 0.189988,
     "end_time": "2022-09-29T23:08:30.507653",
     "exception": false,
     "start_time": "2022-09-29T23:08:30.317665",
     "status": "completed"
    },
    "tags": []
   },
   "outputs": [
    {
     "data": {
      "image/png": "[encoded data removed]",
      "text/plain": [
       "<Figure size 432x288 with 1 Axes>"
      ]
     },
     "metadata": {
      "needs_background": "light"
     },
     "output_type": "display_data"
    }
   ],
   "source": [
    "sns.barplot(x='LandContour',y='SalePrice',color='black',ci=None, data=train_df)\n",
    "plt.show()"
   ]
  },
  {
   "cell_type": "code",
   "execution_count": 32,
   "id": "0966246a",
   "metadata": {
    "execution": {
     "iopub.execute_input": "2022-09-29T23:08:30.553279Z",
     "iopub.status.busy": "2022-09-29T23:08:30.552402Z",
     "iopub.status.idle": "2022-09-29T23:08:30.718775Z",
     "shell.execute_reply": "2022-09-29T23:08:30.717889Z"
    },
    "papermill": {
     "duration": 0.191949,
     "end_time": "2022-09-29T23:08:30.721133",
     "exception": false,
     "start_time": "2022-09-29T23:08:30.529184",
     "status": "completed"
    },
    "tags": []
   },
   "outputs": [
    {
     "data": {
      "image/png": "[encoded data removed]",
      "text/plain": [
       "<Figure size 432x288 with 1 Axes>"
      ]
     },
     "metadata": {
      "needs_background": "light"
     },
     "output_type": "display_data"
    }
   ],
   "source": [
    "sns.countplot(x='LandContour',color='black',data=train_df)\n",
    "plt.show()"
   ]
  },
  {
   "cell_type": "code",
   "execution_count": 33,
   "id": "bedc35aa",
   "metadata": {
    "execution": {
     "iopub.execute_input": "2022-09-29T23:08:30.767674Z",
     "iopub.status.busy": "2022-09-29T23:08:30.766372Z",
     "iopub.status.idle": "2022-09-29T23:08:30.775361Z",
     "shell.execute_reply": "2022-09-29T23:08:30.773906Z"
    },
    "papermill": {
     "duration": 0.03516,
     "end_time": "2022-09-29T23:08:30.778045",
     "exception": false,
     "start_time": "2022-09-29T23:08:30.742885",
     "status": "completed"
    },
    "tags": []
   },
   "outputs": [
    {
     "data": {
      "text/plain": [
       "array(['SBrkr', 'FuseF', 'FuseA', 'FuseP', 'Mix'], dtype=object)"
      ]
     },
     "execution_count": 33,
     "metadata": {},
     "output_type": "execute_result"
    }
   ],
   "source": [
    "train_df['Electrical'].unique()"
   ]
  },
  {
   "cell_type": "code",
   "execution_count": 34,
   "id": "e1837cb4",
   "metadata": {
    "execution": {
     "iopub.execute_input": "2022-09-29T23:08:30.824345Z",
     "iopub.status.busy": "2022-09-29T23:08:30.823177Z",
     "iopub.status.idle": "2022-09-29T23:08:31.004415Z",
     "shell.execute_reply": "2022-09-29T23:08:31.003230Z"
    },
    "papermill": {
     "duration": 0.207088,
     "end_time": "2022-09-29T23:08:31.007145",
     "exception": false,
     "start_time": "2022-09-29T23:08:30.800057",
     "status": "completed"
    },
    "tags": []
   },
   "outputs": [
    {
     "data": {
      "image/png": "[encoded data removed]",
      "text/plain": [
       "<Figure size 432x288 with 1 Axes>"
      ]
     },
     "metadata": {
      "needs_background": "light"
     },
     "output_type": "display_data"
    }
   ],
   "source": [
    "sns.countplot(x='Electrical', data=train_df)\n",
    "plt.show()"
   ]
  },
  {
   "cell_type": "code",
   "execution_count": 35,
   "id": "023bcc32",
   "metadata": {
    "execution": {
     "iopub.execute_input": "2022-09-29T23:08:31.054413Z",
     "iopub.status.busy": "2022-09-29T23:08:31.053702Z",
     "iopub.status.idle": "2022-09-29T23:08:31.237171Z",
     "shell.execute_reply": "2022-09-29T23:08:31.235863Z"
    },
    "papermill": {
     "duration": 0.210267,
     "end_time": "2022-09-29T23:08:31.240089",
     "exception": false,
     "start_time": "2022-09-29T23:08:31.029822",
     "status": "completed"
    },
    "tags": []
   },
   "outputs": [
    {
     "data": {
      "image/png": "[encoded data removed]",
      "text/plain": [
       "<Figure size 432x288 with 1 Axes>"
      ]
     },
     "metadata": {
      "needs_background": "light"
     },
     "output_type": "display_data"
    }
   ],
   "source": [
    "sns.barplot(x='Electrical',y='SalePrice',color='black',ci=None ,data=train_df)\n",
    "plt.show()"
   ]
  },
  {
   "cell_type": "markdown",
   "id": "1493a260",
   "metadata": {
    "papermill": {
     "duration": 0.021951,
     "end_time": "2022-09-29T23:08:31.284285",
     "exception": false,
     "start_time": "2022-09-29T23:08:31.262334",
     "status": "completed"
    },
    "tags": []
   },
   "source": [
    "The relationship between the Garage type and the sales price"
   ]
  },
  {
   "cell_type": "code",
   "execution_count": 36,
   "id": "6235be55",
   "metadata": {
    "execution": {
     "iopub.execute_input": "2022-09-29T23:08:31.330807Z",
     "iopub.status.busy": "2022-09-29T23:08:31.330361Z",
     "iopub.status.idle": "2022-09-29T23:08:31.510005Z",
     "shell.execute_reply": "2022-09-29T23:08:31.508617Z"
    },
    "papermill": {
     "duration": 0.206074,
     "end_time": "2022-09-29T23:08:31.512745",
     "exception": false,
     "start_time": "2022-09-29T23:08:31.306671",
     "status": "completed"
    },
    "tags": []
   },
   "outputs": [
    {
     "data": {
      "image/png": "[encoded data removed]",
      "text/plain": [
       "<Figure size 432x288 with 1 Axes>"
      ]
     },
     "metadata": {
      "needs_background": "light"
     },
     "output_type": "display_data"
    }
   ],
   "source": [
    "sns.barplot(x='GarageType',y='SalePrice',color='black',ci =None, data=train_df)\n",
    "plt.show()"
   ]
  },
  {
   "cell_type": "code",
   "execution_count": 37,
   "id": "5ec7cf22",
   "metadata": {
    "execution": {
     "iopub.execute_input": "2022-09-29T23:08:31.561578Z",
     "iopub.status.busy": "2022-09-29T23:08:31.561175Z",
     "iopub.status.idle": "2022-09-29T23:08:31.739502Z",
     "shell.execute_reply": "2022-09-29T23:08:31.738276Z"
    },
    "papermill": {
     "duration": 0.206559,
     "end_time": "2022-09-29T23:08:31.742423",
     "exception": false,
     "start_time": "2022-09-29T23:08:31.535864",
     "status": "completed"
    },
    "tags": []
   },
   "outputs": [
    {
     "data": {
      "image/png": "[encoded data removed]",
      "text/plain": [
       "<Figure size 432x288 with 1 Axes>"
      ]
     },
     "metadata": {
      "needs_background": "light"
     },
     "output_type": "display_data"
    }
   ],
   "source": [
    "#Number of Garage\n",
    "sns.countplot(x='GarageType',color='black',data=train_df)\n",
    "plt.show()"
   ]
  },
  {
   "cell_type": "code",
   "execution_count": 38,
   "id": "773a1294",
   "metadata": {
    "execution": {
     "iopub.execute_input": "2022-09-29T23:08:31.791107Z",
     "iopub.status.busy": "2022-09-29T23:08:31.790114Z",
     "iopub.status.idle": "2022-09-29T23:08:32.248286Z",
     "shell.execute_reply": "2022-09-29T23:08:32.246474Z"
    },
    "papermill": {
     "duration": 0.489005,
     "end_time": "2022-09-29T23:08:32.254283",
     "exception": false,
     "start_time": "2022-09-29T23:08:31.765278",
     "status": "completed"
    },
    "tags": []
   },
   "outputs": [
    {
     "data": {
      "image/png": "[encoded data removed]",
      "text/plain": [
       "<Figure size 432x288 with 1 Axes>"
      ]
     },
     "metadata": {
      "needs_background": "light"
     },
     "output_type": "display_data"
    }
   ],
   "source": [
    "#Sales condition\n",
    "sns.countplot(x='SaleCondition',color='black', data=train_df)\n",
    "plt.show()"
   ]
  },
  {
   "cell_type": "code",
   "execution_count": 39,
   "id": "567f4c4d",
   "metadata": {
    "execution": {
     "iopub.execute_input": "2022-09-29T23:08:32.305371Z",
     "iopub.status.busy": "2022-09-29T23:08:32.304434Z",
     "iopub.status.idle": "2022-09-29T23:08:32.439983Z",
     "shell.execute_reply": "2022-09-29T23:08:32.439055Z"
    },
    "papermill": {
     "duration": 0.162998,
     "end_time": "2022-09-29T23:08:32.443197",
     "exception": false,
     "start_time": "2022-09-29T23:08:32.280199",
     "status": "completed"
    },
    "tags": []
   },
   "outputs": [
    {
     "data": {
      "image/png": "[encoded data removed]",
      "text/plain": [
       "<Figure size 432x288 with 1 Axes>"
      ]
     },
     "metadata": {
      "needs_background": "light"
     },
     "output_type": "display_data"
    }
   ],
   "source": [
    "sns.barplot(x='SaleCondition',y='SalePrice',ci=None,color='black' ,data=train_df)\n",
    "plt.show()"
   ]
  },
  {
   "cell_type": "markdown",
   "id": "48d38f4d",
   "metadata": {
    "papermill": {
     "duration": 0.02276,
     "end_time": "2022-09-29T23:08:32.496645",
     "exception": false,
     "start_time": "2022-09-29T23:08:32.473885",
     "status": "completed"
    },
    "tags": []
   },
   "source": []
  },
  {
   "cell_type": "code",
   "execution_count": 40,
   "id": "576c3878",
   "metadata": {
    "execution": {
     "iopub.execute_input": "2022-09-29T23:08:32.545127Z",
     "iopub.status.busy": "2022-09-29T23:08:32.544365Z",
     "iopub.status.idle": "2022-09-29T23:08:32.737562Z",
     "shell.execute_reply": "2022-09-29T23:08:32.735930Z"
    },
    "papermill": {
     "duration": 0.220717,
     "end_time": "2022-09-29T23:08:32.740475",
     "exception": false,
     "start_time": "2022-09-29T23:08:32.519758",
     "status": "completed"
    },
    "tags": []
   },
   "outputs": [
    {
     "data": {
      "text/plain": [
       "<AxesSubplot:xlabel='KitchenQual', ylabel='count'>"
      ]
     },
     "execution_count": 40,
     "metadata": {},
     "output_type": "execute_result"
    },
    {
     "data": {
      "image/png": "[encoded data removed]",
      "text/plain": [
       "<Figure size 432x288 with 1 Axes>"
      ]
     },
     "metadata": {
      "needs_background": "light"
     },
     "output_type": "display_data"
    }
   ],
   "source": [
    "#KitchenQual\n",
    "sns.countplot(x='KitchenQual',color='Green',data=train_df)"
   ]
  },
  {
   "cell_type": "code",
   "execution_count": 41,
   "id": "a49a700b",
   "metadata": {
    "execution": {
     "iopub.execute_input": "2022-09-29T23:08:32.791372Z",
     "iopub.status.busy": "2022-09-29T23:08:32.790481Z",
     "iopub.status.idle": "2022-09-29T23:08:32.983871Z",
     "shell.execute_reply": "2022-09-29T23:08:32.982525Z"
    },
    "papermill": {
     "duration": 0.221625,
     "end_time": "2022-09-29T23:08:32.986906",
     "exception": false,
     "start_time": "2022-09-29T23:08:32.765281",
     "status": "completed"
    },
    "tags": []
   },
   "outputs": [
    {
     "data": {
      "text/plain": [
       "<AxesSubplot:xlabel='KitchenQual', ylabel='SalePrice'>"
      ]
     },
     "execution_count": 41,
     "metadata": {},
     "output_type": "execute_result"
    },
    {
     "data": {
      "image/png": "[encoded data removed]",
      "text/plain": [
       "<Figure size 432x288 with 1 Axes>"
      ]
     },
     "metadata": {
      "needs_background": "light"
     },
     "output_type": "display_data"
    }
   ],
   "source": [
    "#Check the relation between the kitchen quality and the salesprice\n",
    "sns.barplot(x='KitchenQual',y='SalePrice',color='Green',ci=None,data=train_df)"
   ]
  },
  {
   "cell_type": "markdown",
   "id": "cd3f670d",
   "metadata": {
    "papermill": {
     "duration": 0.024107,
     "end_time": "2022-09-29T23:08:33.035359",
     "exception": false,
     "start_time": "2022-09-29T23:08:33.011252",
     "status": "completed"
    },
    "tags": []
   },
   "source": [
    "The condition affects the price."
   ]
  },
  {
   "cell_type": "code",
   "execution_count": 42,
   "id": "b7e2c5a5",
   "metadata": {
    "execution": {
     "iopub.execute_input": "2022-09-29T23:08:33.085745Z",
     "iopub.status.busy": "2022-09-29T23:08:33.085078Z",
     "iopub.status.idle": "2022-09-29T23:08:33.278679Z",
     "shell.execute_reply": "2022-09-29T23:08:33.277703Z"
    },
    "papermill": {
     "duration": 0.22169,
     "end_time": "2022-09-29T23:08:33.281086",
     "exception": false,
     "start_time": "2022-09-29T23:08:33.059396",
     "status": "completed"
    },
    "tags": []
   },
   "outputs": [
    {
     "data": {
      "image/png": "[encoded data removed]",
      "text/plain": [
       "<Figure size 432x288 with 1 Axes>"
      ]
     },
     "metadata": {
      "needs_background": "light"
     },
     "output_type": "display_data"
    }
   ],
   "source": [
    "#Sale type\n",
    "sns.countplot(x='SaleType',color='black',data=train_df)\n",
    "plt.show()"
   ]
  },
  {
   "cell_type": "code",
   "execution_count": 43,
   "id": "514bdd0e",
   "metadata": {
    "execution": {
     "iopub.execute_input": "2022-09-29T23:08:33.331392Z",
     "iopub.status.busy": "2022-09-29T23:08:33.330709Z",
     "iopub.status.idle": "2022-09-29T23:08:33.524233Z",
     "shell.execute_reply": "2022-09-29T23:08:33.522990Z"
    },
    "papermill": {
     "duration": 0.222087,
     "end_time": "2022-09-29T23:08:33.527266",
     "exception": false,
     "start_time": "2022-09-29T23:08:33.305179",
     "status": "completed"
    },
    "tags": []
   },
   "outputs": [
    {
     "data": {
      "image/png": "[encoded data removed]",
      "text/plain": [
       "<Figure size 432x288 with 1 Axes>"
      ]
     },
     "metadata": {
      "needs_background": "light"
     },
     "output_type": "display_data"
    }
   ],
   "source": [
    "#Relationship between the saletype and the price\n",
    "sns.barplot(x='SaleType',y='SalePrice',ci=None,color='black',data=train_df)\n",
    "plt.show()"
   ]
  },
  {
   "cell_type": "markdown",
   "id": "018a18a5",
   "metadata": {
    "papermill": {
     "duration": 0.024883,
     "end_time": "2022-09-29T23:08:33.576613",
     "exception": false,
     "start_time": "2022-09-29T23:08:33.551730",
     "status": "completed"
    },
    "tags": []
   },
   "source": [
    "**Houses just constructed and sold and house on 15% downpayment have the highest salesprice range.**"
   ]
  },
  {
   "cell_type": "code",
   "execution_count": 44,
   "id": "a0ce52ad",
   "metadata": {
    "execution": {
     "iopub.execute_input": "2022-09-29T23:08:33.628629Z",
     "iopub.status.busy": "2022-09-29T23:08:33.627960Z",
     "iopub.status.idle": "2022-09-29T23:08:33.824995Z",
     "shell.execute_reply": "2022-09-29T23:08:33.823981Z"
    },
    "papermill": {
     "duration": 0.226034,
     "end_time": "2022-09-29T23:08:33.827328",
     "exception": false,
     "start_time": "2022-09-29T23:08:33.601294",
     "status": "completed"
    },
    "tags": []
   },
   "outputs": [
    {
     "data": {
      "text/plain": [
       "<AxesSubplot:xlabel='ExterQual', ylabel='SalePrice'>"
      ]
     },
     "execution_count": 44,
     "metadata": {},
     "output_type": "execute_result"
    },
    {
     "data": {
      "image/png": "[encoded data removed]",
      "text/plain": [
       "<Figure size 432x288 with 1 Axes>"
      ]
     },
     "metadata": {
      "needs_background": "light"
     },
     "output_type": "display_data"
    }
   ],
   "source": [
    "#Type of roof\n",
    "sns.barplot(x='ExterQual',y=\"SalePrice\",ci=None,data=train_df,color='black')"
   ]
  },
  {
   "cell_type": "markdown",
   "id": "f9c45e76",
   "metadata": {
    "papermill": {
     "duration": 0.024562,
     "end_time": "2022-09-29T23:08:33.877651",
     "exception": false,
     "start_time": "2022-09-29T23:08:33.853089",
     "status": "completed"
    },
    "tags": []
   },
   "source": [
    "Exterior quality affects the salesprice in an excellent way"
   ]
  },
  {
   "cell_type": "code",
   "execution_count": 45,
   "id": "9df47bf5",
   "metadata": {
    "execution": {
     "iopub.execute_input": "2022-09-29T23:08:33.931154Z",
     "iopub.status.busy": "2022-09-29T23:08:33.930349Z",
     "iopub.status.idle": "2022-09-29T23:08:34.138547Z",
     "shell.execute_reply": "2022-09-29T23:08:34.136944Z"
    },
    "papermill": {
     "duration": 0.238687,
     "end_time": "2022-09-29T23:08:34.141607",
     "exception": false,
     "start_time": "2022-09-29T23:08:33.902920",
     "status": "completed"
    },
    "tags": []
   },
   "outputs": [
    {
     "data": {
      "text/plain": [
       "<AxesSubplot:xlabel='Foundation', ylabel='SalePrice'>"
      ]
     },
     "execution_count": 45,
     "metadata": {},
     "output_type": "execute_result"
    },
    {
     "data": {
      "image/png": "[encoded data removed]",
      "text/plain": [
       "<Figure size 432x288 with 1 Axes>"
      ]
     },
     "metadata": {
      "needs_background": "light"
     },
     "output_type": "display_data"
    }
   ],
   "source": [
    "sns.barplot(x='Foundation',y=\"SalePrice\",ci=None,data=train_df,color='black')"
   ]
  },
  {
   "cell_type": "code",
   "execution_count": 46,
   "id": "569142ff",
   "metadata": {
    "execution": {
     "iopub.execute_input": "2022-09-29T23:08:34.197237Z",
     "iopub.status.busy": "2022-09-29T23:08:34.196774Z",
     "iopub.status.idle": "2022-09-29T23:08:34.412784Z",
     "shell.execute_reply": "2022-09-29T23:08:34.411551Z"
    },
    "papermill": {
     "duration": 0.247758,
     "end_time": "2022-09-29T23:08:34.415696",
     "exception": false,
     "start_time": "2022-09-29T23:08:34.167938",
     "status": "completed"
    },
    "tags": []
   },
   "outputs": [
    {
     "data": {
      "text/plain": [
       "<AxesSubplot:xlabel='Heating', ylabel='SalePrice'>"
      ]
     },
     "execution_count": 46,
     "metadata": {},
     "output_type": "execute_result"
    },
    {
     "data": {
      "image/png": "[encoded data removed]",
      "text/plain": [
       "<Figure size 432x288 with 1 Axes>"
      ]
     },
     "metadata": {
      "needs_background": "light"
     },
     "output_type": "display_data"
    }
   ],
   "source": [
    "#Type of heating\n",
    "sns.barplot(x='Heating',y=\"SalePrice\",ci=None,data=train_df,color='black')"
   ]
  },
  {
   "cell_type": "code",
   "execution_count": 47,
   "id": "cfd115ce",
   "metadata": {
    "execution": {
     "iopub.execute_input": "2022-09-29T23:08:34.469995Z",
     "iopub.status.busy": "2022-09-29T23:08:34.468773Z",
     "iopub.status.idle": "2022-09-29T23:08:34.656407Z",
     "shell.execute_reply": "2022-09-29T23:08:34.655364Z"
    },
    "papermill": {
     "duration": 0.217535,
     "end_time": "2022-09-29T23:08:34.659148",
     "exception": false,
     "start_time": "2022-09-29T23:08:34.441613",
     "status": "completed"
    },
    "tags": []
   },
   "outputs": [
    {
     "data": {
      "text/plain": [
       "<AxesSubplot:xlabel='HeatingQC', ylabel='SalePrice'>"
      ]
     },
     "execution_count": 47,
     "metadata": {},
     "output_type": "execute_result"
    },
    {
     "data": {
      "image/png": "[encoded data removed]",
      "text/plain": [
       "<Figure size 432x288 with 1 Axes>"
      ]
     },
     "metadata": {
      "needs_background": "light"
     },
     "output_type": "display_data"
    }
   ],
   "source": [
    "#Heating Quality\n",
    "sns.barplot(x='HeatingQC',y=\"SalePrice\",ci=None,data=train_df,color='black')"
   ]
  },
  {
   "cell_type": "markdown",
   "id": "07a71592",
   "metadata": {
    "papermill": {
     "duration": 0.025683,
     "end_time": "2022-09-29T23:08:34.711447",
     "exception": false,
     "start_time": "2022-09-29T23:08:34.685764",
     "status": "completed"
    },
    "tags": []
   },
   "source": [
    "Heating condition affects the sales price. Houses with excellent heating quality and condition have the highest sales price"
   ]
  },
  {
   "cell_type": "code",
   "execution_count": 48,
   "id": "4b87f3de",
   "metadata": {
    "execution": {
     "iopub.execute_input": "2022-09-29T23:08:34.766036Z",
     "iopub.status.busy": "2022-09-29T23:08:34.764923Z",
     "iopub.status.idle": "2022-09-29T23:08:34.931249Z",
     "shell.execute_reply": "2022-09-29T23:08:34.929891Z"
    },
    "papermill": {
     "duration": 0.196266,
     "end_time": "2022-09-29T23:08:34.933978",
     "exception": false,
     "start_time": "2022-09-29T23:08:34.737712",
     "status": "completed"
    },
    "tags": []
   },
   "outputs": [
    {
     "data": {
      "text/plain": [
       "<AxesSubplot:xlabel='MSZoning', ylabel='SalePrice'>"
      ]
     },
     "execution_count": 48,
     "metadata": {},
     "output_type": "execute_result"
    },
    {
     "data": {
      "image/png": "[encoded data removed]",
      "text/plain": [
       "<Figure size 432x288 with 1 Axes>"
      ]
     },
     "metadata": {
      "needs_background": "light"
     },
     "output_type": "display_data"
    }
   ],
   "source": [
    "#Heating Quality\n",
    "sns.barplot(x='MSZoning',y=\"SalePrice\",ci=None,data=train_df,color='black')"
   ]
  },
  {
   "cell_type": "markdown",
   "id": "118a2f1e",
   "metadata": {
    "papermill": {
     "duration": 0.027712,
     "end_time": "2022-09-29T23:08:34.988990",
     "exception": false,
     "start_time": "2022-09-29T23:08:34.961278",
     "status": "completed"
    },
    "tags": []
   },
   "source": [
    "Floating village residential houses had the highest sales prices followed by residential low density zones."
   ]
  },
  {
   "cell_type": "markdown",
   "id": "d51511e3",
   "metadata": {
    "papermill": {
     "duration": 0.02583,
     "end_time": "2022-09-29T23:08:35.040991",
     "exception": false,
     "start_time": "2022-09-29T23:08:35.015161",
     "status": "completed"
    },
    "tags": []
   },
   "source": [
    "## Model Development"
   ]
  },
  {
   "cell_type": "code",
   "execution_count": 49,
   "id": "fc8fc913",
   "metadata": {
    "execution": {
     "iopub.execute_input": "2022-09-29T23:08:35.095949Z",
     "iopub.status.busy": "2022-09-29T23:08:35.095497Z",
     "iopub.status.idle": "2022-09-29T23:08:35.113173Z",
     "shell.execute_reply": "2022-09-29T23:08:35.112004Z"
    },
    "papermill": {
     "duration": 0.047945,
     "end_time": "2022-09-29T23:08:35.115712",
     "exception": false,
     "start_time": "2022-09-29T23:08:35.067767",
     "status": "completed"
    },
    "tags": []
   },
   "outputs": [
    {
     "data": {
      "text/plain": [
       "SalePrice        1.000000\n",
       "OverallQual      0.790982\n",
       "GrLivArea        0.708624\n",
       "GarageCars       0.640409\n",
       "GarageArea       0.623431\n",
       "TotalBsmtSF      0.613581\n",
       "1stFlrSF         0.605852\n",
       "FullBath         0.560664\n",
       "TotRmsAbvGrd     0.533723\n",
       "YearBuilt        0.522897\n",
       "YearRemodAdd     0.507101\n",
       "MasVnrArea       0.472614\n",
       "Fireplaces       0.466929\n",
       "GarageYrBlt      0.466754\n",
       "BsmtFinSF1       0.386420\n",
       "LotFrontage      0.334771\n",
       "WoodDeckSF       0.324413\n",
       "2ndFlrSF         0.319334\n",
       "OpenPorchSF      0.315856\n",
       "HalfBath         0.284108\n",
       "LotArea          0.263843\n",
       "BsmtFullBath     0.227122\n",
       "BsmtUnfSF        0.214479\n",
       "BedroomAbvGr     0.168213\n",
       "ScreenPorch      0.111447\n",
       "PoolArea         0.092404\n",
       "MoSold           0.046432\n",
       "3SsnPorch        0.044584\n",
       "BsmtFinSF2      -0.011378\n",
       "BsmtHalfBath    -0.016844\n",
       "MiscVal         -0.021190\n",
       "Id              -0.021917\n",
       "LowQualFinSF    -0.025606\n",
       "YrSold          -0.028923\n",
       "OverallCond     -0.077856\n",
       "MSSubClass      -0.084284\n",
       "EnclosedPorch   -0.128578\n",
       "KitchenAbvGr    -0.135907\n",
       "Name: SalePrice, dtype: float64"
      ]
     },
     "execution_count": 49,
     "metadata": {},
     "output_type": "execute_result"
    }
   ],
   "source": [
    "train_df.corr()['SalePrice'].sort_values(ascending=False)"
   ]
  },
  {
   "cell_type": "code",
   "execution_count": 50,
   "id": "e9ce0a75",
   "metadata": {
    "execution": {
     "iopub.execute_input": "2022-09-29T23:08:35.170454Z",
     "iopub.status.busy": "2022-09-29T23:08:35.169640Z",
     "iopub.status.idle": "2022-09-29T23:08:35.412226Z",
     "shell.execute_reply": "2022-09-29T23:08:35.411029Z"
    },
    "papermill": {
     "duration": 0.272944,
     "end_time": "2022-09-29T23:08:35.414977",
     "exception": false,
     "start_time": "2022-09-29T23:08:35.142033",
     "status": "completed"
    },
    "tags": []
   },
   "outputs": [
    {
     "data": {
      "image/png": "[encoded data removed]",
      "text/plain": [
       "<Figure size 1008x576 with 1 Axes>"
      ]
     },
     "metadata": {
      "needs_background": "light"
     },
     "output_type": "display_data"
    }
   ],
   "source": [
    "plt.figure(figsize=(14,8))\n",
    "train_df.corr()['SalePrice'].sort_values()[22:-1].plot(kind='bar')\n",
    "plt.show()"
   ]
  },
  {
   "cell_type": "code",
   "execution_count": 51,
   "id": "b8a54ad9",
   "metadata": {
    "execution": {
     "iopub.execute_input": "2022-09-29T23:08:35.470536Z",
     "iopub.status.busy": "2022-09-29T23:08:35.470137Z",
     "iopub.status.idle": "2022-09-29T23:08:40.734304Z",
     "shell.execute_reply": "2022-09-29T23:08:40.733073Z"
    },
    "papermill": {
     "duration": 5.296489,
     "end_time": "2022-09-29T23:08:40.738304",
     "exception": false,
     "start_time": "2022-09-29T23:08:35.441815",
     "status": "completed"
    },
    "tags": []
   },
   "outputs": [
    {
     "data": {
      "image/png": "[encoded data removed]",
      "text/plain": [
       "<Figure size 1440x720 with 16 Axes>"
      ]
     },
     "metadata": {
      "needs_background": "light"
     },
     "output_type": "display_data"
    }
   ],
   "source": [
    "fig, axes = plt.subplots(4,4,figsize = (20,10))\n",
    "fig.suptitle('Relationship between sales price and other factors',fontsize = 10)\n",
    "sns.regplot(x=train_df['OverallQual'], y=train_df['SalePrice'],color='b',ax=axes[0][0])\n",
    "sns.regplot(x=train_df['GrLivArea'], y=train_df['SalePrice'],color='b',ax=axes[0][1])\n",
    "sns.regplot(x=train_df['GarageCars'], y=train_df['SalePrice'],color='b',ax=axes[0][2])\n",
    "sns.regplot(x=train_df['GarageArea'], y=train_df['SalePrice'],color='b',ax=axes[0][3])\n",
    "sns.regplot(x=train_df['TotalBsmtSF'], y=train_df['SalePrice'],color='b',ax=axes[1][0])\n",
    "sns.regplot(x=train_df['1stFlrSF'], y=train_df['SalePrice'],color='b',ax=axes[1][1])\n",
    "sns.regplot(x=train_df['FullBath'], y=train_df['SalePrice'],color='b',ax=axes[1][2])\n",
    "sns.regplot(x=train_df['TotRmsAbvGrd'], y=train_df['SalePrice'],color='b',ax=axes[1][3])\n",
    "sns.regplot(x=train_df['YearBuilt'], y=train_df['SalePrice'],color='b',ax=axes[2][0])\n",
    "sns.regplot(x=train_df['YearRemodAdd'], y=train_df['SalePrice'],color='b',ax=axes[2][1])\n",
    "sns.regplot(x=train_df['KitchenAbvGr'], y=train_df['SalePrice'],color='b',ax=axes[2][2])\n",
    "sns.regplot(x=train_df['MasVnrArea'], y=train_df['SalePrice'],color='b',ax=axes[2][3])\n",
    "sns.regplot(x=train_df['Fireplaces'], y=train_df['SalePrice'],color='b',ax=axes[3][0])\n",
    "sns.regplot(x=train_df['GarageYrBlt'], y=train_df['SalePrice'],color='b',ax=axes[3][1])\n",
    "sns.regplot(x=train_df['BsmtFinSF1'], y=train_df['SalePrice'],color='b',ax=axes[3][2])\n",
    "sns.scatterplot(x=train_df['LotFrontage'], y=train_df['SalePrice'],color='b',ax=axes[3][3])\n",
    "sns.set_style(\"whitegrid\")"
   ]
  },
  {
   "cell_type": "code",
   "execution_count": 52,
   "id": "93549d81",
   "metadata": {
    "execution": {
     "iopub.execute_input": "2022-09-29T23:08:40.799620Z",
     "iopub.status.busy": "2022-09-29T23:08:40.798968Z",
     "iopub.status.idle": "2022-09-29T23:08:40.806976Z",
     "shell.execute_reply": "2022-09-29T23:08:40.805799Z"
    },
    "papermill": {
     "duration": 0.04135,
     "end_time": "2022-09-29T23:08:40.809310",
     "exception": false,
     "start_time": "2022-09-29T23:08:40.767960",
     "status": "completed"
    },
    "tags": []
   },
   "outputs": [
    {
     "data": {
      "text/plain": [
       "Index(['Id', 'MSSubClass', 'MSZoning', 'LotFrontage', 'LotArea', 'Street',\n",
       "       'LotShape', 'LandContour', 'Utilities', 'LotConfig', 'LandSlope',\n",
       "       'Neighborhood', 'Condition1', 'Condition2', 'BldgType', 'HouseStyle',\n",
       "       'OverallQual', 'OverallCond', 'YearBuilt', 'YearRemodAdd', 'RoofStyle',\n",
       "       'RoofMatl', 'Exterior1st', 'Exterior2nd', 'MasVnrType', 'MasVnrArea',\n",
       "       'ExterQual', 'ExterCond', 'Foundation', 'BsmtQual', 'BsmtCond',\n",
       "       'BsmtExposure', 'BsmtFinType1', 'BsmtFinSF1', 'BsmtFinType2',\n",
       "       'BsmtFinSF2', 'BsmtUnfSF', 'TotalBsmtSF', 'Heating', 'HeatingQC',\n",
       "       'CentralAir', 'Electrical', '1stFlrSF', '2ndFlrSF', 'LowQualFinSF',\n",
       "       'GrLivArea', 'BsmtFullBath', 'BsmtHalfBath', 'FullBath', 'HalfBath',\n",
       "       'BedroomAbvGr', 'KitchenAbvGr', 'KitchenQual', 'TotRmsAbvGrd',\n",
       "       'Functional', 'Fireplaces', 'GarageType', 'GarageYrBlt', 'GarageFinish',\n",
       "       'GarageCars', 'GarageArea', 'GarageQual', 'GarageCond', 'PavedDrive',\n",
       "       'WoodDeckSF', 'OpenPorchSF', 'EnclosedPorch', '3SsnPorch',\n",
       "       'ScreenPorch', 'PoolArea', 'MiscVal', 'MoSold', 'YrSold', 'SaleType',\n",
       "       'SaleCondition', 'SalePrice'],\n",
       "      dtype='object')"
      ]
     },
     "execution_count": 52,
     "metadata": {},
     "output_type": "execute_result"
    }
   ],
   "source": [
    "train_df.columns"
   ]
  },
  {
   "cell_type": "code",
   "execution_count": 53,
   "id": "4949a755",
   "metadata": {
    "execution": {
     "iopub.execute_input": "2022-09-29T23:08:40.871851Z",
     "iopub.status.busy": "2022-09-29T23:08:40.871392Z",
     "iopub.status.idle": "2022-09-29T23:08:40.879133Z",
     "shell.execute_reply": "2022-09-29T23:08:40.877888Z"
    },
    "papermill": {
     "duration": 0.041397,
     "end_time": "2022-09-29T23:08:40.881611",
     "exception": false,
     "start_time": "2022-09-29T23:08:40.840214",
     "status": "completed"
    },
    "tags": []
   },
   "outputs": [],
   "source": [
    "#Encode non-numeric features\n",
    "features =['OverallQual','GrLivArea','GarageCars','GarageArea','TotalBsmtSF','1stFlrSF','FullBath','TotRmsAbvGrd','YearBuilt','YearRemodAdd','MasVnrArea','Fireplaces']\n",
    "y= train_df['SalePrice']\n",
    "X =train_df[features]"
   ]
  },
  {
   "cell_type": "markdown",
   "id": "873f64db",
   "metadata": {
    "papermill": {
     "duration": 0.031122,
     "end_time": "2022-09-29T23:08:40.942881",
     "exception": false,
     "start_time": "2022-09-29T23:08:40.911759",
     "status": "completed"
    },
    "tags": []
   },
   "source": [
    "### Encode the non-numeric features"
   ]
  },
  {
   "cell_type": "code",
   "execution_count": 54,
   "id": "15eb9b96",
   "metadata": {
    "execution": {
     "iopub.execute_input": "2022-09-29T23:08:41.005813Z",
     "iopub.status.busy": "2022-09-29T23:08:41.005061Z",
     "iopub.status.idle": "2022-09-29T23:08:41.500724Z",
     "shell.execute_reply": "2022-09-29T23:08:41.499240Z"
    },
    "papermill": {
     "duration": 0.5307,
     "end_time": "2022-09-29T23:08:41.503763",
     "exception": false,
     "start_time": "2022-09-29T23:08:40.973063",
     "status": "completed"
    },
    "tags": []
   },
   "outputs": [],
   "source": [
    "from sklearn.pipeline import Pipeline\n",
    "from sklearn.linear_model import LinearRegression\n",
    "from sklearn.preprocessing import StandardScaler\n",
    "from sklearn.model_selection import train_test_split\n",
    "\n",
    "from sklearn.ensemble import GradientBoostingRegressor\n",
    "from sklearn.metrics import mean_squared_error as MSE"
   ]
  },
  {
   "cell_type": "code",
   "execution_count": 55,
   "id": "942b3aba",
   "metadata": {
    "execution": {
     "iopub.execute_input": "2022-09-29T23:08:41.564739Z",
     "iopub.status.busy": "2022-09-29T23:08:41.564282Z",
     "iopub.status.idle": "2022-09-29T23:08:41.571004Z",
     "shell.execute_reply": "2022-09-29T23:08:41.569687Z"
    },
    "papermill": {
     "duration": 0.040213,
     "end_time": "2022-09-29T23:08:41.573551",
     "exception": false,
     "start_time": "2022-09-29T23:08:41.533338",
     "status": "completed"
    },
    "tags": []
   },
   "outputs": [],
   "source": [
    "testX  =test_df[features]\n",
    "\n",
    "#dftestX =pd.get_dummies(test_df[non_numeric])\n",
    "#testX = pd.concat([testX,dftestX])"
   ]
  },
  {
   "cell_type": "code",
   "execution_count": 56,
   "id": "c27af7e2",
   "metadata": {
    "execution": {
     "iopub.execute_input": "2022-09-29T23:08:41.637890Z",
     "iopub.status.busy": "2022-09-29T23:08:41.636668Z",
     "iopub.status.idle": "2022-09-29T23:08:42.334328Z",
     "shell.execute_reply": "2022-09-29T23:08:42.332805Z"
    },
    "papermill": {
     "duration": 0.732137,
     "end_time": "2022-09-29T23:08:42.337321",
     "exception": false,
     "start_time": "2022-09-29T23:08:41.605184",
     "status": "completed"
    },
    "tags": []
   },
   "outputs": [
    {
     "name": "stdout",
     "output_type": "stream",
     "text": [
      "30118.473322507067\n"
     ]
    }
   ],
   "source": [
    "X_train, X_test, y_train, y_test = train_test_split(X,y,test_size=0.2,random_state=1)\n",
    "steps =[('scaler', StandardScaler()),\n",
    "       ('GB',GradientBoostingRegressor(n_estimators =300,max_depth=3,min_samples_split=2))]\n",
    "pipeline = Pipeline(steps)\n",
    "lr = pipeline.fit(X_train,y_train)\n",
    "y_predict =lr.predict(X_test)\n",
    "RMSE =MSE(y_test,y_predict)**(1/2)\n",
    "print(RMSE)                  "
   ]
  },
  {
   "cell_type": "code",
   "execution_count": 57,
   "id": "9b8be852",
   "metadata": {
    "execution": {
     "iopub.execute_input": "2022-09-29T23:08:42.398691Z",
     "iopub.status.busy": "2022-09-29T23:08:42.398276Z",
     "iopub.status.idle": "2022-09-29T23:08:42.433261Z",
     "shell.execute_reply": "2022-09-29T23:08:42.431344Z"
    },
    "papermill": {
     "duration": 0.069602,
     "end_time": "2022-09-29T23:08:42.436654",
     "exception": false,
     "start_time": "2022-09-29T23:08:42.367052",
     "status": "completed"
    },
    "tags": []
   },
   "outputs": [
    {
     "name": "stdout",
     "output_type": "stream",
     "text": [
      "35894.58236836752\n"
     ]
    }
   ],
   "source": [
    "X_train, X_test, y_train, y_test = train_test_split(X,y,test_size=0.2,random_state=1)\n",
    "steps =[('scaler', StandardScaler()),\n",
    "       ('lm',LinearRegression())]\n",
    "pipeline = Pipeline(steps)\n",
    "lr = pipeline.fit(X_train,y_train)\n",
    "y_predict =lr.predict(X_test)\n",
    "RMSE =MSE(y_test,y_predict)**(1/2)\n",
    "print(RMSE)                  "
   ]
  },
  {
   "cell_type": "code",
   "execution_count": 58,
   "id": "bf3485de",
   "metadata": {
    "execution": {
     "iopub.execute_input": "2022-09-29T23:08:42.502080Z",
     "iopub.status.busy": "2022-09-29T23:08:42.500923Z",
     "iopub.status.idle": "2022-09-29T23:08:42.627953Z",
     "shell.execute_reply": "2022-09-29T23:08:42.626413Z"
    },
    "papermill": {
     "duration": 0.16359,
     "end_time": "2022-09-29T23:08:42.631601",
     "exception": false,
     "start_time": "2022-09-29T23:08:42.468011",
     "status": "completed"
    },
    "tags": []
   },
   "outputs": [],
   "source": [
    "import xgboost as xg"
   ]
  },
  {
   "cell_type": "code",
   "execution_count": 59,
   "id": "3b7498dc",
   "metadata": {
    "execution": {
     "iopub.execute_input": "2022-09-29T23:08:42.693221Z",
     "iopub.status.busy": "2022-09-29T23:08:42.692707Z",
     "iopub.status.idle": "2022-09-29T23:08:44.313641Z",
     "shell.execute_reply": "2022-09-29T23:08:44.312515Z"
    },
    "papermill": {
     "duration": 1.654669,
     "end_time": "2022-09-29T23:08:44.316436",
     "exception": false,
     "start_time": "2022-09-29T23:08:42.661767",
     "status": "completed"
    },
    "tags": []
   },
   "outputs": [
    {
     "name": "stdout",
     "output_type": "stream",
     "text": [
      "28718.81851552537\n"
     ]
    }
   ],
   "source": [
    "X_train, X_test, y_train, y_test = train_test_split(X,y,test_size=0.2,random_state=1)\n",
    "steps =[('scaler', StandardScaler()),\n",
    "       ('XB',xg.XGBRegressor(objective ='reg:squarederror',\n",
    "                  n_estimators = 300, seed = 123))]\n",
    "pipeline = Pipeline(steps)\n",
    "XB = pipeline.fit(X_train,y_train)\n",
    "y_predict =XB.predict(X_test)\n",
    "RMSE =MSE(y_test,y_predict)**(1/2)\n",
    "print(RMSE)  "
   ]
  },
  {
   "cell_type": "code",
   "execution_count": 60,
   "id": "cd18a318",
   "metadata": {
    "execution": {
     "iopub.execute_input": "2022-09-29T23:08:44.379021Z",
     "iopub.status.busy": "2022-09-29T23:08:44.378533Z",
     "iopub.status.idle": "2022-09-29T23:08:44.397522Z",
     "shell.execute_reply": "2022-09-29T23:08:44.396346Z"
    },
    "papermill": {
     "duration": 0.053975,
     "end_time": "2022-09-29T23:08:44.400779",
     "exception": false,
     "start_time": "2022-09-29T23:08:44.346804",
     "status": "completed"
    },
    "tags": []
   },
   "outputs": [],
   "source": [
    "#the XBoost had the least mean squared error\n",
    "prediction =XB.predict(testX)"
   ]
  },
  {
   "cell_type": "code",
   "execution_count": 61,
   "id": "fecaaad5",
   "metadata": {
    "execution": {
     "iopub.execute_input": "2022-09-29T23:08:44.463753Z",
     "iopub.status.busy": "2022-09-29T23:08:44.462946Z",
     "iopub.status.idle": "2022-09-29T23:08:44.475909Z",
     "shell.execute_reply": "2022-09-29T23:08:44.474607Z"
    },
    "papermill": {
     "duration": 0.047247,
     "end_time": "2022-09-29T23:08:44.478484",
     "exception": false,
     "start_time": "2022-09-29T23:08:44.431237",
     "status": "completed"
    },
    "tags": []
   },
   "outputs": [
    {
     "data": {
      "text/html": [
       "<div>\n",
       "<style scoped>\n",
       "    .dataframe tbody tr th:only-of-type {\n",
       "        vertical-align: middle;\n",
       "    }\n",
       "\n",
       "    .dataframe tbody tr th {\n",
       "        vertical-align: top;\n",
       "    }\n",
       "\n",
       "    .dataframe thead th {\n",
       "        text-align: right;\n",
       "    }\n",
       "</style>\n",
       "<table border=\"1\" class=\"dataframe\">\n",
       "  <thead>\n",
       "    <tr style=\"text-align: right;\">\n",
       "      <th></th>\n",
       "      <th>Id</th>\n",
       "      <th>SalePrice</th>\n",
       "    </tr>\n",
       "  </thead>\n",
       "  <tbody>\n",
       "    <tr>\n",
       "      <th>0</th>\n",
       "      <td>1461</td>\n",
       "      <td>123793.007812</td>\n",
       "    </tr>\n",
       "    <tr>\n",
       "      <th>1</th>\n",
       "      <td>1462</td>\n",
       "      <td>155467.343750</td>\n",
       "    </tr>\n",
       "    <tr>\n",
       "      <th>2</th>\n",
       "      <td>1463</td>\n",
       "      <td>183541.671875</td>\n",
       "    </tr>\n",
       "    <tr>\n",
       "      <th>3</th>\n",
       "      <td>1464</td>\n",
       "      <td>180967.531250</td>\n",
       "    </tr>\n",
       "    <tr>\n",
       "      <th>4</th>\n",
       "      <td>1465</td>\n",
       "      <td>201426.484375</td>\n",
       "    </tr>\n",
       "  </tbody>\n",
       "</table>\n",
       "</div>"
      ],
      "text/plain": [
       "     Id      SalePrice\n",
       "0  1461  123793.007812\n",
       "1  1462  155467.343750\n",
       "2  1463  183541.671875\n",
       "3  1464  180967.531250\n",
       "4  1465  201426.484375"
      ]
     },
     "execution_count": 61,
     "metadata": {},
     "output_type": "execute_result"
    }
   ],
   "source": [
    "output = pd.DataFrame({'Id': test_df.Id, 'SalePrice': prediction})\n",
    "output.head()"
   ]
  },
  {
   "cell_type": "code",
   "execution_count": 62,
   "id": "00b9f2df",
   "metadata": {
    "execution": {
     "iopub.execute_input": "2022-09-29T23:08:44.541477Z",
     "iopub.status.busy": "2022-09-29T23:08:44.541073Z",
     "iopub.status.idle": "2022-09-29T23:08:44.552213Z",
     "shell.execute_reply": "2022-09-29T23:08:44.551236Z"
    },
    "papermill": {
     "duration": 0.04572,
     "end_time": "2022-09-29T23:08:44.554843",
     "exception": false,
     "start_time": "2022-09-29T23:08:44.509123",
     "status": "completed"
    },
    "tags": []
   },
   "outputs": [],
   "source": [
    "output.to_csv('submission.csv', index=False)"
   ]
  }
 ],
 "metadata": {
  "kernelspec": {
   "display_name": "Python 3",
   "language": "python",
   "name": "python3"
  },
  "language_info": {
   "codemirror_mode": {
    "name": "ipython",
    "version": 3
   },
   "file_extension": ".py",
   "mimetype": "text/x-python",
   "name": "python",
   "nbconvert_exporter": "python",
   "pygments_lexer": "ipython3",
   "version": "3.7.12"
  },
  "papermill": {
   "default_parameters": {},
   "duration": 36.255278,
   "end_time": "2022-09-29T23:08:45.508743",
   "environment_variables": {},
   "exception": null,
   "input_path": "__notebook__.ipynb",
   "output_path": "__notebook__.ipynb",
   "parameters": {},
   "start_time": "2022-09-29T23:08:09.253465",
   "version": "2.3.4"
  }
 },
 "nbformat": 4,
 "nbformat_minor": 5
}
